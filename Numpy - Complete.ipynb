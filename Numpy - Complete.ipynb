{
 "cells": [
  {
   "cell_type": "markdown",
   "metadata": {},
   "source": [
    "# Numpy"
   ]
  },
  {
   "cell_type": "markdown",
   "metadata": {},
   "source": [
    "Provides\n",
    "      1. An array object of arbitrary homogeneous items\n",
    "      2. Fast mathematical operations over arrays\n",
    "      3. Linear Algebra, Fourier Transforms, Random Number Generation\n",
    "      The docstring examples assume that `numpy` has been imported as `np`::\n",
    " >>> import numpy as np"
   ]
  },
  {
   "cell_type": "markdown",
   "metadata": {},
   "source": [
    "   Available subpackages\n",
    "    ---------------------\n",
    "    doc\n",
    "        Topical documentation on broadcasting, indexing, etc.\n",
    "    lib\n",
    "        Basic functions used by several sub-packages.\n",
    "    random\n",
    "        Core Random Tools\n",
    "    linalg\n",
    "        Core Linear Algebra Tools\n",
    "    fft\n",
    "        Core FFT routines\n",
    "    polynomial\n",
    "        Polynomial tools\n",
    "    testing\n",
    "        NumPy testing tools\n",
    "    f2py\n",
    "        Fortran to Python Interface Generator.\n",
    "    distutils\n",
    "        Enhancements to distutils with support for\n",
    "        Fortran compilers support and more.\n"
   ]
  },
  {
   "cell_type": "markdown",
   "metadata": {},
   "source": [
    "# Utilities\n",
    "\n",
    "    test\n",
    "        Run numpy unittests\n",
    "    show_config\n",
    "        Show numpy build configuration\n",
    "    dual\n",
    "        Overwrite certain functions with high-performance Scipy tools\n",
    "    matlib\n",
    "        Make everything matrices.\n",
    "    __version__\n",
    "        NumPy version string\n",
    "        "
   ]
  },
  {
   "cell_type": "markdown",
   "metadata": {},
   "source": [
    "Copies vs. in-place operation\n",
    "    -----------------------------\n",
    "    Most of the functions in `numpy` return a copy of the array argument\n",
    "    (e.g., `np.sort`).  In-place versions of these functions are often\n",
    "    available as array methods, i.e. ``x = np.array([1,2,3]); x.sort()``.\n",
    "    Exceptions to this rule are documented."
   ]
  },
  {
   "cell_type": "markdown",
   "metadata": {},
   "source": [
    "# Basics"
   ]
  },
  {
   "cell_type": "markdown",
   "metadata": {},
   "source": [
    "NumPy’s main object is the homogeneous multidimensional array. It is a table of elements (usually numbers), all of\n",
    "the same type, indexed by a tuple of positive integers. In NumPy dimensions are called axes\n"
   ]
  },
  {
   "cell_type": "code",
   "execution_count": 2,
   "metadata": {},
   "outputs": [],
   "source": [
    "import numpy as np\n",
    "import sys"
   ]
  },
  {
   "cell_type": "code",
   "execution_count": 2,
   "metadata": {},
   "outputs": [],
   "source": [
    "#a = np.array([1,2,3],dtype=int)\n",
    "#b = np.array([[1.0,2.0,3.0],[4.0,5.0,6.0]])\n",
    "\n",
    "#print matrix\n",
    "#print(a)\n",
    "\n",
    "#Get Dimension\n",
    "#print(\"Dimension\",a.ndim)\n",
    "\n",
    "#Get Type/Size\n",
    "#print(\"Type\",b.dtype,\"Size\",b.itemsize, \"bytes\")"
   ]
  },
  {
   "cell_type": "markdown",
   "metadata": {},
   "source": [
    "Absolute"
   ]
  },
  {
   "cell_type": "code",
   "execution_count": 8,
   "metadata": {},
   "outputs": [
    {
     "name": "stdout",
     "output_type": "stream",
     "text": [
      "10\n",
      "203\n"
     ]
    }
   ],
   "source": [
    "# To get the absolute value\n",
    "ab = np.abs(-10)\n",
    "print(ab)\n",
    "#(OR)\n",
    "ab = np.absolute(-203)\n",
    "print(ab)"
   ]
  },
  {
   "cell_type": "markdown",
   "metadata": {},
   "source": [
    "Add (OR) Addition"
   ]
  },
  {
   "cell_type": "code",
   "execution_count": 17,
   "metadata": {},
   "outputs": [
    {
     "ename": "SyntaxError",
     "evalue": "invalid syntax (<ipython-input-17-e6f814edf061>, line 13)",
     "output_type": "error",
     "traceback": [
      "\u001b[0;36m  File \u001b[0;32m\"<ipython-input-17-e6f814edf061>\"\u001b[0;36m, line \u001b[0;32m13\u001b[0m\n\u001b[0;31m    np.add.identity # Return type is int (always 0)\u001b[0m\n\u001b[0m     ^\u001b[0m\n\u001b[0;31mSyntaxError\u001b[0m\u001b[0;31m:\u001b[0m invalid syntax\n"
     ]
    }
   ],
   "source": [
    "# To add any numbers  (Real number only)\n",
    "a = np.add(3,5) # To add scalar values\n",
    "b = np.add([3,5],[4,6]) # To add vector values\n",
    "c = np.add([[3,5],[4,6]],[[5,6],[9,10]]) # To add any matrices (Only square matrices)\n",
    "\n",
    "#ACCUMULATE\n",
    "d = np.add.accumulate([1,2,4]) # Accumlation is possibleon list objects not on integers (1-D array)\n",
    "e = np.add.accumulate([[3,4,5,8],[5,6,2,7]]) # Accumulation of 2-D array , Result is array([[ 3,  4,  5,  8],[ 8, 10,  7, 15]])\n",
    "#(or)\n",
    "f = np.add.accumulate([[3,4,5,8],[5,6,2,7],[4,5,6,9]] # Result : array([[ 3,  4,  5,  8],[ 8, 10,  7, 15],[12, 15, 13, 24]])\n",
    "\n",
    "# IDENTITY\n",
    "np.add.identity # Return type is int (always 0)\n",
    "\n",
    "# Number of Inputs\n",
    "np.add.nin    # Return type is int (always 2 )\n",
    "\n",
    "# Total no of types \n",
    "np.add.ntypes #The number of numerical NumPy types - of which there are 18 total - on which the ufunc can operate. (Default 22)\n",
    "\n",
    "# To Reduce no.of Dimensions by 1\n",
    "np.add.reduce(np.array([3,4,5]))  # Result is 12\n",
    "np.add.reduce(np.array([[3,4,5],[4,5,6]])) # Result is array([ 7,  9, 11]) , Default axis is 0\n",
    "np.add.reduce(np.array([[3,4,5],[4,5,6]]),axis = 1) # Result is array([12, 15])\n",
    "\n",
    "# None type defined here \n",
    "np.add.signature   # Default return is None\n",
    "\n",
    "# To add any number at specific indicies\n",
    "b = np.array([1,2,3,4])\n",
    "u = np.add.at(b,[0],8)  # Result array([9, 2, 3, 4])\n",
    "\n",
    "# The number of arguments. Data attribute containing the number of arguments the ufunc takes, including optional ones.\n",
    ">>> np.add.nargs\n",
    "3\n",
    "\n",
    "# The number of outputs.\n",
    "# Since all ufuncs can take output arguments, this will always be (at least) 1.\n",
    ">>> np.add.nout\n",
    "\n",
    "# To get the outer addition matrices\n",
    "np.add.outer([1,3,5],[2,4,6])  # Result will be array([[ 3,  5,  7],[ 5,  7,  9],[ 7,  9, 11]])\n"
   ]
  },
  {
   "cell_type": "markdown",
   "metadata": {},
   "source": [
    "# Alen"
   ]
  },
  {
   "cell_type": "code",
   "execution_count": 29,
   "metadata": {},
   "outputs": [
    {
     "data": {
      "text/plain": [
       "4"
      ]
     },
     "execution_count": 29,
     "metadata": {},
     "output_type": "execute_result"
    }
   ],
   "source": [
    "# To get the length of first dimension in an array\n",
    "np.alen(np.array([3,28,23,32]))# Return the length of the first dimension of the input array."
   ]
  },
  {
   "cell_type": "markdown",
   "metadata": {},
   "source": [
    "# All / Any"
   ]
  },
  {
   "cell_type": "code",
   "execution_count": 65,
   "metadata": {},
   "outputs": [
    {
     "data": {
      "text/plain": [
       "True"
      ]
     },
     "execution_count": 65,
     "metadata": {},
     "output_type": "execute_result"
    }
   ],
   "source": [
    "# Test whether all array elements along a given axis evaluate to True (Any Returns single boolean unless `axis` is not ``None``)\n",
    ">>> np.all([[True,False],[True,True]])\n",
    ">>> np.all([[3,4],[5,-8]])   # Returns boolean value\n",
    ">>> np.any([[3,4],[5,-8]])"
   ]
  },
  {
   "cell_type": "markdown",
   "metadata": {},
   "source": [
    "# AllClose"
   ]
  },
  {
   "cell_type": "code",
   "execution_count": 38,
   "metadata": {},
   "outputs": [
    {
     "data": {
      "text/plain": [
       "True"
      ]
     },
     "execution_count": 38,
     "metadata": {},
     "output_type": "execute_result"
    }
   ],
   "source": [
    "# allclose(a, b, rtol=1e-05, atol=1e-08, equal_nan=False)\n",
    "#Returns True if two arrays are element-wise equal within a tolerance.\n",
    "np.allclose([1,2,3],[1,2,3])  # Returns True\n",
    "np.allclose([1,2,3],[1,2,4])  # Returns False\n",
    "np.allclose([1,2,3],[1,2,4],rtol = 1) # Returns True\n",
    "np.allclose([1,2,4],[2,2,5],atol= 1) # Returns True"
   ]
  },
  {
   "cell_type": "markdown",
   "metadata": {},
   "source": [
    "# AllTrue"
   ]
  },
  {
   "cell_type": "code",
   "execution_count": 45,
   "metadata": {},
   "outputs": [
    {
     "data": {
      "text/plain": [
       "True"
      ]
     },
     "execution_count": 45,
     "metadata": {},
     "output_type": "execute_result"
    }
   ],
   "source": [
    "#To Check if all elements of input array are true.\n",
    ">>> np.alltrue(np.array([1,2,-3])) # Returns"
   ]
  },
  {
   "cell_type": "markdown",
   "metadata": {},
   "source": [
    "# amax / max"
   ]
  },
  {
   "cell_type": "code",
   "execution_count": 53,
   "metadata": {},
   "outputs": [
    {
     "data": {
      "text/plain": [
       "239"
      ]
     },
     "execution_count": 53,
     "metadata": {},
     "output_type": "execute_result"
    }
   ],
   "source": [
    "# To Return the maximum of an array or maximum along an axis.\n",
    "#np.amax(np.array([15,23,9,1,3,233])) (OR)\n",
    "np.max(np.array([15,239,9,1,3,233]))"
   ]
  },
  {
   "cell_type": "markdown",
   "metadata": {},
   "source": [
    "# amin / min"
   ]
  },
  {
   "cell_type": "code",
   "execution_count": 57,
   "metadata": {},
   "outputs": [
    {
     "data": {
      "text/plain": [
       "3"
      ]
     },
     "execution_count": 57,
     "metadata": {},
     "output_type": "execute_result"
    }
   ],
   "source": [
    "# To Return the minimum of an array or minimum along an axis.\n",
    "#np.amin(np.array([15,23,9,1,3,233])) (OR)\n",
    "np.min(np.array([15,23,9,9,3,233]))"
   ]
  },
  {
   "cell_type": "markdown",
   "metadata": {},
   "source": [
    "# Angle"
   ]
  },
  {
   "cell_type": "code",
   "execution_count": 63,
   "metadata": {},
   "outputs": [
    {
     "data": {
      "text/plain": [
       "71.56505117707799"
      ]
     },
     "execution_count": 63,
     "metadata": {},
     "output_type": "execute_result"
    }
   ],
   "source": [
    "# Syntax\n",
    "#angle(z, deg=0)\n",
    "\n",
    "# To Return the angle of the complex argument.\n",
    "np.angle(np.array([3,-3]),deg=True) #(OR)\n",
    "np.angle(np.array([3,-3]),deg=False) #(OR)\n",
    "np.angle(1+3j,deg=True)"
   ]
  },
  {
   "cell_type": "markdown",
   "metadata": {},
   "source": [
    "# Append"
   ]
  },
  {
   "cell_type": "code",
   "execution_count": 69,
   "metadata": {},
   "outputs": [
    {
     "data": {
      "text/plain": [
       "array([[1, 2, 3],\n",
       "       [4, 5, 6],\n",
       "       [7, 8, 9]])"
      ]
     },
     "execution_count": 69,
     "metadata": {},
     "output_type": "execute_result"
    }
   ],
   "source": [
    "#append(arr, values, axis=None)\n",
    "# To Append values to the end of an array.\n",
    "np.append([1,4,2],[4,5,6])  # Result array([1, 4, 2, 4, 5, 6])\n",
    "np.append([1, 2, 3], [[4, 5, 6], [7, 8, 9]]) #Result array([1, 2, 3, 4, 5, 6, 7, 8, 9])\n",
    "np.append([[1, 2, 3], [4, 5, 6]], [[7, 8, 9]], axis=0)"
   ]
  },
  {
   "cell_type": "markdown",
   "metadata": {},
   "source": [
    "# Arange"
   ]
  },
  {
   "cell_type": "code",
   "execution_count": 76,
   "metadata": {},
   "outputs": [
    {
     "data": {
      "text/plain": [
       "array([0, 1, 2])"
      ]
     },
     "execution_count": 76,
     "metadata": {},
     "output_type": "execute_result"
    }
   ],
   "source": [
    "#Syntax\n",
    "#arange(...)\n",
    " #   arange([start,] stop[, step,], dtype=None)\n",
    "np.arange(1,21,2) #(OR)\n",
    "np.arange(3)"
   ]
  },
  {
   "cell_type": "markdown",
   "metadata": {},
   "source": [
    "# Argmax & Argmin"
   ]
  },
  {
   "cell_type": "code",
   "execution_count": 81,
   "metadata": {},
   "outputs": [
    {
     "data": {
      "text/plain": [
       "1"
      ]
     },
     "execution_count": 81,
     "metadata": {},
     "output_type": "execute_result"
    }
   ],
   "source": [
    "#argmax(a, axis=None, out=None)\n",
    "#Returns the indices of the maximum values along an axis.\n",
    "np.argmax([3,4,8,28,23,24]) # Returns 3 as output because maximum value along axis at index 3\n",
    "np.argmin([3,1,8,28,23,24]) # Returns 1 as output because minimum value along axis at index 1"
   ]
  },
  {
   "cell_type": "markdown",
   "metadata": {},
   "source": [
    "# ArgPartition"
   ]
  },
  {
   "cell_type": "code",
   "execution_count": 87,
   "metadata": {},
   "outputs": [
    {
     "data": {
      "text/plain": [
       "array([[0, 1, 2]])"
      ]
     },
     "execution_count": 87,
     "metadata": {},
     "output_type": "execute_result"
    }
   ],
   "source": [
    "# Syntax\n",
    "# argpartition(a, kth, axis=-1, kind='introselect', order=None)\n",
    "\"\"\"Perform an indirect partition along the given axis using the\n",
    "    algorithm specified by the `kind` keyword. It returns an array of\n",
    "    indices of the same shape as `a` that index data along the given\n",
    "    axis in partitioned order.\"\"\"\n",
    "p = np.array([[10,20,40]])\n",
    "np.argpartition(p,2)"
   ]
  },
  {
   "cell_type": "markdown",
   "metadata": {},
   "source": [
    "# Argsort"
   ]
  },
  {
   "cell_type": "code",
   "execution_count": 103,
   "metadata": {},
   "outputs": [
    {
     "data": {
      "text/plain": [
       "array([0, 1, 3, 4, 2])"
      ]
     },
     "execution_count": 103,
     "metadata": {},
     "output_type": "execute_result"
    }
   ],
   "source": [
    "# argsort(a, axis=-1, kind='quicksort', order=None)\n",
    "#Returns the indices that would sort an array.\n",
    "np.argsort(np.array([1,4,23,9,21]),axis=0)"
   ]
  },
  {
   "cell_type": "markdown",
   "metadata": {},
   "source": [
    "# Argwhere"
   ]
  },
  {
   "cell_type": "code",
   "execution_count": 112,
   "metadata": {},
   "outputs": [
    {
     "name": "stdout",
     "output_type": "stream",
     "text": [
      "[0 1 2 3 4 5]\n"
     ]
    },
    {
     "data": {
      "text/plain": [
       "array([[2],\n",
       "       [3],\n",
       "       [4],\n",
       "       [5]])"
      ]
     },
     "execution_count": 112,
     "metadata": {},
     "output_type": "execute_result"
    }
   ],
   "source": [
    "#argwhere(a)\n",
    "# Find the indices of array elements that are non-zero, grouped by element.\n",
    "x = np.arange(6) # Returns [0 1 2 3 4 5]\n",
    "print(x)\n",
    "np.argwhere(x>1)"
   ]
  },
  {
   "cell_type": "markdown",
   "metadata": {},
   "source": [
    "# Around"
   ]
  },
  {
   "cell_type": "code",
   "execution_count": 126,
   "metadata": {},
   "outputs": [
    {
     "data": {
      "text/plain": [
       "array([0.4, 1.6])"
      ]
     },
     "execution_count": 126,
     "metadata": {},
     "output_type": "execute_result"
    }
   ],
   "source": [
    "# around(a, decimals=0, out=None)\n",
    "# Evenly round to the given number of decimals.\n",
    "np.around([0.37, 1.64], decimals=1)\n",
    "#np.around([.5, 1.5, 2.5, 3.5, 4.5]) # rounds to nearest even value array([0., 2., 2., 4., 4.])"
   ]
  },
  {
   "cell_type": "markdown",
   "metadata": {},
   "source": [
    "# CreateArray"
   ]
  },
  {
   "cell_type": "code",
   "execution_count": 128,
   "metadata": {},
   "outputs": [
    {
     "data": {
      "text/plain": [
       "matrix([[1, 2],\n",
       "        [3, 4]])"
      ]
     },
     "execution_count": 128,
     "metadata": {},
     "output_type": "execute_result"
    }
   ],
   "source": [
    "    np.array([1, 2, 3])\n",
    "    \n",
    "    #Upcasting:\n",
    "    np.array([1, 2, 3.0])\n",
    "    \n",
    "    #More than one dimension:\n",
    "    \n",
    "    np.array([[1, 2], [3, 4]])\n",
    "    \n",
    "    #Minimum dimensions 2:\n",
    "    \n",
    "    np.array([1, 2, 3], ndmin=2)\n",
    "    \n",
    "    #Type provided:\n",
    "    \n",
    "    np.array([1, 2, 3], dtype=complex)\n",
    "    \n",
    "    #Data-type consisting of more than one element:\n",
    "    \n",
    "    x = np.array([(1,2),(3,4)],dtype=[('a','<i4'),('b','<i4')])\n",
    "    x['a']\n",
    "\n",
    "    #Creating an array from sub-classes:\n",
    "    \n",
    "    np.array(np.mat('1 2; 3 4'))\n",
    "\n",
    "    np.array(np.mat('1 2; 3 4'), subok=True)"
   ]
  },
  {
   "cell_type": "markdown",
   "metadata": {},
   "source": [
    "# Array2String"
   ]
  },
  {
   "cell_type": "code",
   "execution_count": null,
   "metadata": {},
   "outputs": [],
   "source": [
    "#Syntax\n",
    "# array2string(a, max_line_width=None, precision=None, suppress_small=None, separator=' ', prefix='', style=<class 'numpy._globals._NoValue'>, formatter=None, threshold=None, edgeitems=None, sign=None, floatmode=None, suffix='', **kwarg)\n",
    "x = np.array([4,5,6])\n",
    "np.array2string(x) # Result is '[4 5 6]' (Return a string representation of an array.)"
   ]
  },
  {
   "cell_type": "markdown",
   "metadata": {},
   "source": [
    "# ArrayEqual"
   ]
  },
  {
   "cell_type": "code",
   "execution_count": 130,
   "metadata": {},
   "outputs": [
    {
     "data": {
      "text/plain": [
       "True"
      ]
     },
     "execution_count": 130,
     "metadata": {},
     "output_type": "execute_result"
    }
   ],
   "source": [
    "# Syntax ::::\n",
    "#array_equal(a1, a2) , True if two arrays have the same shape and elements, False otherwise.\n",
    "np.array_equal([1,2],[3,4]) # Returns false\n",
    "np.array_equal([1,2],[1,2]) # Returns True"
   ]
  },
  {
   "cell_type": "markdown",
   "metadata": {},
   "source": [
    "# ArrayEquiv"
   ]
  },
  {
   "cell_type": "code",
   "execution_count": 134,
   "metadata": {},
   "outputs": [
    {
     "data": {
      "text/plain": [
       "False"
      ]
     },
     "execution_count": 134,
     "metadata": {},
     "output_type": "execute_result"
    }
   ],
   "source": [
    "# Syntax :\n",
    "#array_equiv(a1, a2)\n",
    "#Returns True if input arrays are shape consistent and all elements equal.\n",
    "# Shape consistent means they are either the same shape, or one input array can be broadcasted to create the same shape as the other one.\n",
    "np.array_equiv([1,2],[[1,2]]) # Returns true\n",
    "np.array_equiv([1, 2], [[1, 2], [1, 3]]) # Returns False\n"
   ]
  },
  {
   "cell_type": "markdown",
   "metadata": {},
   "source": [
    "# ArrayRepr"
   ]
  },
  {
   "cell_type": "code",
   "execution_count": 150,
   "metadata": {},
   "outputs": [
    {
     "data": {
      "text/plain": [
       "'array([1, 2])'"
      ]
     },
     "execution_count": 150,
     "metadata": {},
     "output_type": "execute_result"
    }
   ],
   "source": [
    "# array_repr(arr, max_line_width=None, precision=None, suppress_small=None)\n",
    "# Return the string representation of an array.\n",
    "np.array_repr(np.array([1,2]))\n",
    "#x = np.array([1e-6, 4e-7, 2, 3])\n",
    "#np.array_repr(x,precision=6,suppress_small=True)"
   ]
  },
  {
   "cell_type": "markdown",
   "metadata": {},
   "source": [
    "# ArraySplit"
   ]
  },
  {
   "cell_type": "code",
   "execution_count": 147,
   "metadata": {},
   "outputs": [
    {
     "data": {
      "text/plain": [
       "[array([0, 1, 2]), array([3, 4, 5]), array([6, 7])]"
      ]
     },
     "execution_count": 147,
     "metadata": {},
     "output_type": "execute_result"
    }
   ],
   "source": [
    "# array_split(ary, indices_or_sections, axis=0)\n",
    "# Split an array into multiple sub-arrays.\n",
    "x = np.arange(8)\n",
    "x\n",
    "np.array_split(x,3) # Returns array into three splits [array([0, 1, 2]), array([3, 4, 5]), array([6, 7])]"
   ]
  },
  {
   "cell_type": "markdown",
   "metadata": {},
   "source": [
    "# ArrayString"
   ]
  },
  {
   "cell_type": "code",
   "execution_count": 151,
   "metadata": {},
   "outputs": [
    {
     "data": {
      "text/plain": [
       "'[1 2 3]'"
      ]
     },
     "execution_count": 151,
     "metadata": {},
     "output_type": "execute_result"
    }
   ],
   "source": [
    "#array_str(a, max_line_width=None, precision=None, suppress_small=None)\n",
    "#Return a string representation of the data in an array.\n",
    "m = np.array([1,2,3])\n",
    "np.array_str(m)"
   ]
  },
  {
   "cell_type": "markdown",
   "metadata": {},
   "source": [
    "# AsAnArray"
   ]
  },
  {
   "cell_type": "code",
   "execution_count": 157,
   "metadata": {},
   "outputs": [
    {
     "data": {
      "text/plain": [
       "True"
      ]
     },
     "execution_count": 157,
     "metadata": {},
     "output_type": "execute_result"
    }
   ],
   "source": [
    "# asanyarray(a, dtype=None, order=None)\n",
    "# Convert the input to an ndarray, but pass ndarray subclasses through.\n",
    "np.asanyarray([1,2])\n",
    "a = np.matrix([1,2])\n",
    "np.asanyarray(a) is a"
   ]
  },
  {
   "cell_type": "markdown",
   "metadata": {},
   "source": [
    "# AsArray"
   ]
  },
  {
   "cell_type": "code",
   "execution_count": 169,
   "metadata": {},
   "outputs": [
    {
     "data": {
      "text/plain": [
       "False"
      ]
     },
     "execution_count": 169,
     "metadata": {},
     "output_type": "execute_result"
    }
   ],
   "source": [
    "#asarray(a, dtype=None, order=None)\n",
    "# Convert the input to an array.\n",
    "a = [1, 2]\n",
    "m = np.asarray(a)\n",
    "\n",
    "#ex2:\n",
    "a = np.matrix([[1, 2]])\n",
    "np.asarray(a) is a"
   ]
  },
  {
   "cell_type": "markdown",
   "metadata": {},
   "source": [
    "# AsArrayCheckFinite"
   ]
  },
  {
   "cell_type": "code",
   "execution_count": 240,
   "metadata": {},
   "outputs": [
    {
     "ename": "ValueError",
     "evalue": "array must not contain infs or NaNs",
     "output_type": "error",
     "traceback": [
      "\u001b[0;31m---------------------------------------------------------------------------\u001b[0m",
      "\u001b[0;31mValueError\u001b[0m                                Traceback (most recent call last)",
      "\u001b[0;32m<ipython-input-240-e17bd9196f87>\u001b[0m in \u001b[0;36m<module>\u001b[0;34m()\u001b[0m\n\u001b[1;32m      2\u001b[0m \u001b[0;31m# Convert the input to an array, checking for NaNs or Infs.\u001b[0m\u001b[0;34m\u001b[0m\u001b[0;34m\u001b[0m\u001b[0m\n\u001b[1;32m      3\u001b[0m \u001b[0ma\u001b[0m \u001b[0;34m=\u001b[0m \u001b[0;34m[\u001b[0m\u001b[0;36m1\u001b[0m\u001b[0;34m,\u001b[0m \u001b[0;36m2\u001b[0m\u001b[0;34m,\u001b[0m \u001b[0mnp\u001b[0m\u001b[0;34m.\u001b[0m\u001b[0mNaN\u001b[0m\u001b[0;34m]\u001b[0m\u001b[0;34m\u001b[0m\u001b[0m\n\u001b[0;32m----> 4\u001b[0;31m \u001b[0mnp\u001b[0m\u001b[0;34m.\u001b[0m\u001b[0masarray_chkfinite\u001b[0m\u001b[0;34m(\u001b[0m\u001b[0ma\u001b[0m\u001b[0;34m)\u001b[0m\u001b[0;34m\u001b[0m\u001b[0m\n\u001b[0m",
      "\u001b[0;32m~/anaconda3/lib/python3.6/site-packages/numpy/lib/function_base.py\u001b[0m in \u001b[0;36masarray_chkfinite\u001b[0;34m(a, dtype, order)\u001b[0m\n\u001b[1;32m   1231\u001b[0m     \u001b[0;32mif\u001b[0m \u001b[0ma\u001b[0m\u001b[0;34m.\u001b[0m\u001b[0mdtype\u001b[0m\u001b[0;34m.\u001b[0m\u001b[0mchar\u001b[0m \u001b[0;32min\u001b[0m \u001b[0mtypecodes\u001b[0m\u001b[0;34m[\u001b[0m\u001b[0;34m'AllFloat'\u001b[0m\u001b[0;34m]\u001b[0m \u001b[0;32mand\u001b[0m \u001b[0;32mnot\u001b[0m \u001b[0mnp\u001b[0m\u001b[0;34m.\u001b[0m\u001b[0misfinite\u001b[0m\u001b[0;34m(\u001b[0m\u001b[0ma\u001b[0m\u001b[0;34m)\u001b[0m\u001b[0;34m.\u001b[0m\u001b[0mall\u001b[0m\u001b[0;34m(\u001b[0m\u001b[0;34m)\u001b[0m\u001b[0;34m:\u001b[0m\u001b[0;34m\u001b[0m\u001b[0m\n\u001b[1;32m   1232\u001b[0m         raise ValueError(\n\u001b[0;32m-> 1233\u001b[0;31m             \"array must not contain infs or NaNs\")\n\u001b[0m\u001b[1;32m   1234\u001b[0m     \u001b[0;32mreturn\u001b[0m \u001b[0ma\u001b[0m\u001b[0;34m\u001b[0m\u001b[0m\n\u001b[1;32m   1235\u001b[0m \u001b[0;34m\u001b[0m\u001b[0m\n",
      "\u001b[0;31mValueError\u001b[0m: array must not contain infs or NaNs"
     ]
    }
   ],
   "source": [
    "# asarray_chkfinite(a, dtype=None, order=None)\n",
    "# Convert the input to an array, checking for NaNs or Infs.\n",
    "a = [1, 2, np.NaN]\n",
    "np.asarray_chkfinite(a)"
   ]
  },
  {
   "cell_type": "markdown",
   "metadata": {},
   "source": [
    "# ASContiguousArray"
   ]
  },
  {
   "cell_type": "code",
   "execution_count": null,
   "metadata": {},
   "outputs": [],
   "source": [
    "# asfarray(a, dtype=<class 'numpy.float64'>)\n",
    "# Return an array converted to a float type."
   ]
  },
  {
   "cell_type": "markdown",
   "metadata": {},
   "source": [
    "# AsfArray"
   ]
  },
  {
   "cell_type": "code",
   "execution_count": 180,
   "metadata": {},
   "outputs": [
    {
     "data": {
      "text/plain": [
       "array([2., 4.])"
      ]
     },
     "execution_count": 180,
     "metadata": {},
     "output_type": "execute_result"
    }
   ],
   "source": [
    "# asfarray(a, dtype=<class 'numpy.float64'>)\n",
    "# Return an array converted to a float type.\n",
    "np.asfarray([2,4])"
   ]
  },
  {
   "cell_type": "markdown",
   "metadata": {},
   "source": [
    "# AsFortranarray"
   ]
  },
  {
   "cell_type": "code",
   "execution_count": null,
   "metadata": {},
   "outputs": [],
   "source": [
    "# asfortranarray(a, dtype=None)\n",
    "# Return an array laid out in Fortran order in memory."
   ]
  },
  {
   "cell_type": "markdown",
   "metadata": {},
   "source": [
    "# AsMatrix"
   ]
  },
  {
   "cell_type": "code",
   "execution_count": 193,
   "metadata": {},
   "outputs": [],
   "source": [
    "#asmatrix(data, dtype=None)\n",
    "# Interpret the input as a matrix.\n",
    "    \n",
    "# Unlike `matrix`, `asmatrix` does not make a copy if the input is already\n",
    "# a matrix or an ndarray.  Equivalent to ``matrix(data, copy=False)``.\n",
    "x = np.array([[1, 2], [3, 4]])\n",
    "m = np.asmatrix(x)"
   ]
  },
  {
   "cell_type": "markdown",
   "metadata": {},
   "source": [
    "# AsScalar"
   ]
  },
  {
   "cell_type": "code",
   "execution_count": 194,
   "metadata": {},
   "outputs": [
    {
     "data": {
      "text/plain": [
       "24"
      ]
     },
     "execution_count": 194,
     "metadata": {},
     "output_type": "execute_result"
    }
   ],
   "source": [
    "# asscalar(a)\n",
    "# Convert an array of size 1 to its scalar equivalent.\n",
    "a = np.array([24])\n",
    "np.asscalar(a)"
   ]
  },
  {
   "cell_type": "markdown",
   "metadata": {},
   "source": [
    "# Atleast_1d"
   ]
  },
  {
   "cell_type": "code",
   "execution_count": 202,
   "metadata": {},
   "outputs": [
    {
     "data": {
      "text/plain": [
       "array([[0, 1, 2],\n",
       "       [3, 4, 5],\n",
       "       [6, 7, 8]])"
      ]
     },
     "execution_count": 202,
     "metadata": {},
     "output_type": "execute_result"
    }
   ],
   "source": [
    "# atleast_1d(*arys)\n",
    "# Convert inputs to arrays with at least one dimension.\n",
    "# Scalar inputs are converted to 1-dimensional arrays, whilst higher-dimensional inputs are preserved.\n",
    "x = 3\n",
    "np.atleast_1d(x)\n",
    "y = np.arange(9).reshape(3,3)\n",
    "np.atleast_1d(y)"
   ]
  },
  {
   "cell_type": "markdown",
   "metadata": {},
   "source": [
    "# Atleast_2d"
   ]
  },
  {
   "cell_type": "code",
   "execution_count": 204,
   "metadata": {},
   "outputs": [
    {
     "data": {
      "text/plain": [
       "[array([[1]]), array([[1, 2]]), array([[1, 2]])]"
      ]
     },
     "execution_count": 204,
     "metadata": {},
     "output_type": "execute_result"
    }
   ],
   "source": [
    "# atleast_2d(*arys)\n",
    "# View inputs as arrays with at least two dimensions.\n",
    "x = 6\n",
    "np.atleast_2d(x)\n",
    "np.atleast_2d(1, [1, 2], [[1, 2]])"
   ]
  },
  {
   "cell_type": "markdown",
   "metadata": {},
   "source": [
    "# Average"
   ]
  },
  {
   "cell_type": "code",
   "execution_count": 214,
   "metadata": {},
   "outputs": [
    {
     "data": {
      "text/plain": [
       "array([0.75, 2.75, 4.75])"
      ]
     },
     "execution_count": 214,
     "metadata": {},
     "output_type": "execute_result"
    }
   ],
   "source": [
    "# average(a, axis=None, weights=None, returned=False)\n",
    "# Compute the weighted average along the specified axis.\n",
    "data = range(1,5)\n",
    "np.average(data)\n",
    "#np.average(range(1,11), weights=range(10,0,-1))\n",
    "data = np.arange(6).reshape((3,2))\n",
    "data\n",
    "np.average(data, axis=1, weights=[1./4, 3./4])"
   ]
  },
  {
   "cell_type": "code",
   "execution_count": 215,
   "metadata": {},
   "outputs": [],
   "source": [
    "########################################################################################################################"
   ]
  },
  {
   "cell_type": "markdown",
   "metadata": {},
   "source": [
    "# Bartlett"
   ]
  },
  {
   "cell_type": "code",
   "execution_count": null,
   "metadata": {},
   "outputs": [],
   "source": []
  },
  {
   "cell_type": "markdown",
   "metadata": {},
   "source": [
    "# BaseRepr"
   ]
  },
  {
   "cell_type": "code",
   "execution_count": 218,
   "metadata": {},
   "outputs": [
    {
     "data": {
      "text/plain": [
       "'11'"
      ]
     },
     "execution_count": 218,
     "metadata": {},
     "output_type": "execute_result"
    }
   ],
   "source": [
    "# base_repr(number, base=2, padding=0)\n",
    "# Return a string representation of a number in the given base system.\n",
    "np.base_repr(6) # Returns '110' default base 2\n",
    "np.base_repr(6,base=5)"
   ]
  },
  {
   "cell_type": "markdown",
   "metadata": {},
   "source": [
    "# BinaryRepr"
   ]
  },
  {
   "cell_type": "code",
   "execution_count": 225,
   "metadata": {},
   "outputs": [
    {
     "data": {
      "text/plain": [
       "'-1001'"
      ]
     },
     "execution_count": 225,
     "metadata": {},
     "output_type": "execute_result"
    }
   ],
   "source": [
    "# binary_repr(num, width=None)\n",
    "# Return the binary representation of the input number as a string.\n",
    "#For negative numbers, if width is not given, a minus sign is added to the front. If width is given, the two's complement of the number is returned, with respect to that width.\n",
    "np.binary_repr(8)\n",
    "np.binary_repr(-9)\n",
    "#np.binary_repr(-9,width=4)"
   ]
  },
  {
   "cell_type": "markdown",
   "metadata": {},
   "source": [
    "# BinCount"
   ]
  },
  {
   "cell_type": "code",
   "execution_count": 239,
   "metadata": {},
   "outputs": [
    {
     "data": {
      "text/plain": [
       "array([1, 1, 1, 1, 1])"
      ]
     },
     "execution_count": 239,
     "metadata": {},
     "output_type": "execute_result"
    }
   ],
   "source": [
    "b = np.arange(5)\n",
    "np.bincount(b)"
   ]
  },
  {
   "cell_type": "markdown",
   "metadata": {},
   "source": [
    "# BitwiseAnd"
   ]
  },
  {
   "cell_type": "code",
   "execution_count": 233,
   "metadata": {},
   "outputs": [
    {
     "data": {
      "text/plain": [
       "1"
      ]
     },
     "execution_count": 233,
     "metadata": {},
     "output_type": "execute_result"
    }
   ],
   "source": [
    "# numpy.bitwise_and(x1, x2, /, out=None, *, where=True, casting='same_kind', order='K', dtype=None, subok=True[, signature, extobj]) = <ufunc 'bitwise_and'>\n",
    "#Compute the bit-wise AND of two arrays element-wise.\n",
    "#Computes the bit-wise AND of the underlying binary representation of the integers in the input arrays. This ufunc implements the C/Python operator &.\n",
    "np.bitwise_and(14, 13)\n",
    "np.bitwise_and(13, 17)\n",
    "# The number 13 is represented by 00001101. Likewise, 17 is represented by 00010001. The bit-wise AND of 13 and 17 is therefore 000000001, or 1:"
   ]
  },
  {
   "cell_type": "markdown",
   "metadata": {},
   "source": [
    "# BitwiseNot"
   ]
  },
  {
   "cell_type": "code",
   "execution_count": 236,
   "metadata": {},
   "outputs": [
    {
     "data": {
      "text/plain": [
       "-7"
      ]
     },
     "execution_count": 236,
     "metadata": {},
     "output_type": "execute_result"
    }
   ],
   "source": [
    "np.bitwise_not(6)"
   ]
  },
  {
   "cell_type": "markdown",
   "metadata": {},
   "source": [
    "# BitwiseOR"
   ]
  },
  {
   "cell_type": "code",
   "execution_count": 244,
   "metadata": {},
   "outputs": [
    {
     "name": "stdout",
     "output_type": "stream",
     "text": [
      "np.bitwise_or(13, 16) bitwise_or is :  29\n",
      "np.bitwise_or([33, 4], 1) bitwise_or is :  [33  5]\n"
     ]
    }
   ],
   "source": [
    "# numpy.bitwise_or(x1, x2, /, out=None, *, where=True, casting='same_kind', order='K', dtype=None, subok=True[, signature, extobj]) = <ufunc 'bitwise_or'>\n",
    "# Compute the bit-wise OR of two arrays element-wise.\n",
    "print(\"np.bitwise_or(13, 16) bitwise_or is : \",np.bitwise_or(13, 16))\n",
    "# The number 13 has the binaray representation 00001101. Likewise, 16 is represented by 00010000. The bit-wise OR of 13 and 16 is then 000111011, or 29:\n",
    "print(\"np.bitwise_or([33, 4], 1) bitwise_or is : \",np.bitwise_or([33, 4], 1))\n"
   ]
  },
  {
   "cell_type": "markdown",
   "metadata": {},
   "source": [
    "# BitwiseXOR"
   ]
  },
  {
   "cell_type": "code",
   "execution_count": 247,
   "metadata": {},
   "outputs": [
    {
     "name": "stdout",
     "output_type": "stream",
     "text": [
      "np.bitwise_xor(10,20) bitwise_xor is :  30\n"
     ]
    }
   ],
   "source": [
    "# numpy.bitwise_xor(x1, x2, /, out=None, *, where=True, casting='same_kind', order='K', dtype=None, subok=True[, signature, extobj]) = <ufunc 'bitwise_xor'>\n",
    "# Compute the bit-wise XOR of two arrays element-wise. 10 : 00001010 , 20 : 00010100\n",
    "print(\"np.bitwise_xor(10,20) bitwise_xor is : \", np.bitwise_xor(10,20))"
   ]
  },
  {
   "cell_type": "markdown",
   "metadata": {},
   "source": [
    "# BlackMan ( will read when come across)"
   ]
  },
  {
   "cell_type": "code",
   "execution_count": null,
   "metadata": {
    "scrolled": true
   },
   "outputs": [],
   "source": [
    "\n"
   ]
  },
  {
   "cell_type": "markdown",
   "metadata": {},
   "source": [
    "# Block"
   ]
  },
  {
   "cell_type": "code",
   "execution_count": 252,
   "metadata": {},
   "outputs": [
    {
     "data": {
      "text/plain": [
       "array([1, 2, 3, 4])"
      ]
     },
     "execution_count": 252,
     "metadata": {},
     "output_type": "execute_result"
    }
   ],
   "source": [
    "# block(arrays)\n",
    "# Assemble an nd-array from nested lists of blocks.\n",
    "np.block([1,2,3,4])"
   ]
  },
  {
   "cell_type": "markdown",
   "metadata": {},
   "source": [
    "# Bmat"
   ]
  },
  {
   "cell_type": "code",
   "execution_count": 265,
   "metadata": {},
   "outputs": [],
   "source": [
    "# bmat(obj, ldict=None, gdict=None)\n",
    "# Build a matrix object from a string, nested sequence, or array.\n",
    "np.bmat()"
   ]
  },
  {
   "cell_type": "markdown",
   "metadata": {},
   "source": [
    "# Bool"
   ]
  },
  {
   "cell_type": "code",
   "execution_count": 275,
   "metadata": {},
   "outputs": [
    {
     "data": {
      "text/plain": [
       "True"
      ]
     },
     "execution_count": 275,
     "metadata": {},
     "output_type": "execute_result"
    }
   ],
   "source": [
    "# bool(x) -> bool\n",
    "# Returns True when the argument x is true, False otherwise.The builtins True and False are the only two instances of the class bool.\n",
    "# The class bool is a subclass of the class int, and cannot be subclassed.\n",
    "np.bool(\"\") # For all empty list, dict, set and String default value is false.\n",
    "np.bool([2])\n"
   ]
  },
  {
   "cell_type": "markdown",
   "metadata": {},
   "source": [
    "# Broadcast"
   ]
  },
  {
   "cell_type": "code",
   "execution_count": 278,
   "metadata": {},
   "outputs": [
    {
     "name": "stdout",
     "output_type": "stream",
     "text": [
      "<numpy.broadcast object at 0x7fa2c7c15ae0>\n"
     ]
    }
   ],
   "source": [
    "# Produce an object that mimics broadcasting.\n",
    "x = np.array([1,2])\n",
    "y = np.array([3,4])\n",
    "print(np.broadcast(x,y))"
   ]
  },
  {
   "cell_type": "markdown",
   "metadata": {},
   "source": [
    "# BroadcastArray"
   ]
  },
  {
   "cell_type": "code",
   "execution_count": 285,
   "metadata": {},
   "outputs": [
    {
     "data": {
      "text/plain": [
       "[array([[1, 2],\n",
       "        [1, 2]]), array([[1, 1],\n",
       "        [2, 2]])]"
      ]
     },
     "execution_count": 285,
     "metadata": {},
     "output_type": "execute_result"
    }
   ],
   "source": [
    "# broadcast_arrays(*args, **kwargs)\n",
    "# Broadcast any number of arrays against each other.\n",
    "x = np.array([[1,2]])\n",
    "y = np.array([[1],[2]])\n",
    "np.broadcast_arrays(x,y)"
   ]
  },
  {
   "cell_type": "markdown",
   "metadata": {},
   "source": [
    "# BroadCastTo"
   ]
  },
  {
   "cell_type": "code",
   "execution_count": 288,
   "metadata": {},
   "outputs": [
    {
     "data": {
      "text/plain": [
       "array([[1, 2, 3, 4],\n",
       "       [1, 2, 3, 4],\n",
       "       [1, 2, 3, 4],\n",
       "       [1, 2, 3, 4]])"
      ]
     },
     "execution_count": 288,
     "metadata": {},
     "output_type": "execute_result"
    }
   ],
   "source": [
    "# broadcast_to(array, shape, subok=False)\n",
    "# Broadcast an array to a new shape.\n",
    "x = np.array([1, 2, 3,4])\n",
    "np.broadcast_to(x,(4,4))"
   ]
  },
  {
   "cell_type": "markdown",
   "metadata": {},
   "source": [
    "# BusdayCount"
   ]
  },
  {
   "cell_type": "code",
   "execution_count": 308,
   "metadata": {},
   "outputs": [
    {
     "name": "stdout",
     "output_type": "stream",
     "text": [
      "Total No.of Weekdays in January :  23\n",
      "Totla No.of Weekdays in 2019 Year:  261\n",
      "Total No.of Saturdays in 2019 Year :  52\n"
     ]
    }
   ],
   "source": [
    "#busday_count(...)\n",
    "\"\"\"busday_count(begindates, enddates, weekmask='1111100', holidays=[], busdaycal=None, out=None)\n",
    "    \n",
    "    Counts the number of valid days between `begindates` and\n",
    "    `enddates`, not including the day of `enddates`.\n",
    "    \n",
    "    If ``enddates`` specifies a date value that is earlier than the\n",
    "    corresponding ``begindates`` date value, the count will be negative.\"\"\"\n",
    "\n",
    "print(\"Total No.of Weekdays in January : \",np.busday_count('2019-01','2019-02')) # Returns no.of weekdays in January\n",
    "print(\"Totla No.of Weekdays in 2019 Year: \",np.busday_count('2019','2020')) # Returns no.of weedays in 2019\n",
    "print(\"Total No.of Saturdays in 2019 Year : \",np.busday_count('2019','2020',weekmask='Sat'))"
   ]
  },
  {
   "cell_type": "markdown",
   "metadata": {},
   "source": [
    "# BusDayOffSet"
   ]
  },
  {
   "cell_type": "code",
   "execution_count": null,
   "metadata": {},
   "outputs": [],
   "source": [
    "# busday_offset(...)\n",
    "'''busday_offset(dates, offsets, roll='raise', weekmask='1111100', holidays=None, busdaycal=None, out=None)\n",
    "    \n",
    "    First adjusts the date to fall on a valid day according to\n",
    "    the ``roll`` rule, then applies offsets to the given dates\n",
    "    counted in valid days.'''"
   ]
  },
  {
   "cell_type": "code",
   "execution_count": null,
   "metadata": {},
   "outputs": [],
   "source": []
  },
  {
   "cell_type": "markdown",
   "metadata": {},
   "source": [
    "# LinearAlgebra"
   ]
  },
  {
   "cell_type": "markdown",
   "metadata": {},
   "source": [
    "Bench"
   ]
  },
  {
   "cell_type": "code",
   "execution_count": 314,
   "metadata": {},
   "outputs": [
    {
     "name": "stdout",
     "output_type": "stream",
     "text": [
      "Running benchmarks for numpy.linalg\n",
      "NumPy version 1.14.5\n",
      "NumPy relaxed strides checking option: True\n",
      "NumPy is installed in /Users/purnachandra.dasari/anaconda3/lib/python3.6/site-packages/numpy\n",
      "Python version 3.6.5 |Anaconda, Inc.| (default, Apr 26 2018, 08:42:37) [GCC 4.2.1 Compatible Clang 4.0.1 (tags/RELEASE_401/final)]\n",
      "nose version 1.3.7\n"
     ]
    },
    {
     "name": "stderr",
     "output_type": "stream",
     "text": [
      "\n",
      "----------------------------------------------------------------------\n",
      "Ran 0 tests in 0.000s\n",
      "\n",
      "OK\n"
     ]
    },
    {
     "data": {
      "text/plain": [
       "True"
      ]
     },
     "execution_count": 314,
     "metadata": {},
     "output_type": "execute_result"
    }
   ],
   "source": [
    "np.linalg.bench()"
   ]
  },
  {
   "cell_type": "markdown",
   "metadata": {},
   "source": [
    "Cholesky"
   ]
  },
  {
   "cell_type": "markdown",
   "metadata": {},
   "source": [
    "<img src=\"/Users/purnachandra.dasari/Downloads/AIML-Labs-BLR/PythonPandas/Choleskydecomp.png\">"
   ]
  },
  {
   "cell_type": "code",
   "execution_count": 322,
   "metadata": {},
   "outputs": [
    {
     "data": {
      "text/plain": [
       "matrix([[ 2.44948974,  0.        ,  0.        ],\n",
       "        [ 6.12372436,  4.18330013,  0.        ],\n",
       "        [22.45365598, 20.91650066,  6.11010093]])"
      ]
     },
     "execution_count": 322,
     "metadata": {},
     "output_type": "execute_result"
    }
   ],
   "source": [
    "#cholesky(a)\n",
    "\"\"\"Cholesky decomposition.\n",
    "    \n",
    "    Return the Cholesky decomposition, `L * L.H`, of the square matrix `a`,\n",
    "    where `L` is lower-triangular and .H is the conjugate transpose operator\n",
    "    (which is the ordinary transpose if `a` is real-valued).  `a` must be\n",
    "    Hermitian (symmetric if real-valued) and positive-definite.  Only `L` is\n",
    "    actually returned.\"\"\"\n",
    "# Ref :http://atozmath.com/example/MatrixEv.aspx?he=e&q=choleskydecomp\n",
    "# Ref2 :https://towardsdatascience.com/behind-the-models-cholesky-decomposition-b61ef17a65fb\n",
    "\"\"\"Notes : Cholesky Decomposition- This is the mostly used decomposition in machine learning. Used for calculating linear least square for linear regression\"\"\"\n",
    "np.linalg.cholesky(np.mat([[6,15,55],[15,55,225],[55,225,979]]))"
   ]
  },
  {
   "cell_type": "markdown",
   "metadata": {},
   "source": [
    "# Cond"
   ]
  },
  {
   "cell_type": "code",
   "execution_count": 3,
   "metadata": {},
   "outputs": [
    {
     "data": {
      "text/plain": [
       "1.4142135623730951"
      ]
     },
     "execution_count": 3,
     "metadata": {},
     "output_type": "execute_result"
    }
   ],
   "source": [
    "# cond(x, p=None)\n",
    "# Compute the condition number of a matrix.\n",
    "    \n",
    "\"\"\"This function is capable of returning the condition number using one of seven different norms, \n",
    "depending on the value of `p` (see\n",
    "Parameters below).\n",
    "\n",
    "p : {None, 1, -1, 2, -2, inf, -inf, ‘fro’}, optional\n",
    "Order of the norm:\n",
    "\n",
    "p\tnorm for matrices\n",
    "None\t2-norm, computed directly using the SVD\n",
    "‘fro’\tFrobenius norm\n",
    "inf\tmax(sum(abs(x), axis=1))\n",
    "-inf\tmin(sum(abs(x), axis=1))\n",
    "1\tmax(sum(abs(x), axis=0))\n",
    "-1\tmin(sum(abs(x), axis=0))\n",
    "2\t2-norm (largest sing. value)\n",
    "-2\tsmallest singular value\n",
    "inf means the numpy.inf object, and the Frobenius norm is the root-of-sum-of-squares norm.\n",
    "\"\"\"\n",
    "a = np.array([[1, 0, -1], [0, 1, 0], [1, 0, 1]])\n",
    "np.linalg.cond(a)"
   ]
  },
  {
   "cell_type": "markdown",
   "metadata": {},
   "source": [
    "# Determinant"
   ]
  },
  {
   "cell_type": "code",
   "execution_count": 9,
   "metadata": {},
   "outputs": [
    {
     "name": "stdout",
     "output_type": "stream",
     "text": [
      "Determinant of a matrix/array a is :  -2.0000000000000004\n",
      "Determinant of a matrix/array b is :  [-2. -3. -8.]\n"
     ]
    }
   ],
   "source": [
    "#det(a)\n",
    "# Compute the determinant of an array. |ad - bc|\n",
    "a = ([1,2],[3,4])\n",
    "b = np.array([ [[1, 2], [3, 4]], [[1, 2], [2, 1]], [[1, 3], [3, 1]] ])\n",
    "print(\"Determinant of a matrix/array a is : \",np.linalg.det(a))\n",
    "print(\"Determinant of a matrix/array b is : \",np.linalg.det(b))"
   ]
  },
  {
   "cell_type": "markdown",
   "metadata": {},
   "source": [
    "# EigenValues"
   ]
  },
  {
   "cell_type": "code",
   "execution_count": 21,
   "metadata": {},
   "outputs": [
    {
     "name": "stdout",
     "output_type": "stream",
     "text": [
      "Eigen values are :  [1. 2. 3.]\n",
      "Eigen vectors are:  [[1. 0. 0.]\n",
      " [0. 1. 0.]\n",
      " [0. 0. 1.]]\n"
     ]
    }
   ],
   "source": [
    "# eig(a)\n",
    "# Compute the eigenvalues and right eigenvectors of a square array.\n",
    "w1, v1 = np.linalg.eig(np.diag((1, 2, 3)))\n",
    "print(\"Eigen values are : \",w1)\n",
    "print(\"Eigen vectors are: \",v1)\n",
    "w2,v2 = np.linalg.eig(np.array([[1,2,3],[4,5,6],[7,8,9]]))"
   ]
  },
  {
   "cell_type": "code",
   "execution_count": 22,
   "metadata": {},
   "outputs": [
    {
     "data": {
      "text/plain": [
       "(array([0.17157288, 5.82842712]),\n",
       " array([[-0.92387953-0.j        , -0.38268343+0.j        ],\n",
       "        [ 0.        +0.38268343j,  0.        -0.92387953j]]))"
      ]
     },
     "execution_count": 22,
     "metadata": {},
     "output_type": "execute_result"
    }
   ],
   "source": [
    "# eigh(a, UPLO='L')\n",
    "# Return the eigenvalues and eigenvectors of a Hermitian or symmetric matrix.\n",
    "a = np.array([[1, -2j], [2j, 5]])\n",
    "np.linalg.eigh(a)"
   ]
  },
  {
   "cell_type": "code",
   "execution_count": 28,
   "metadata": {},
   "outputs": [
    {
     "data": {
      "text/plain": [
       "array([-0.37228132,  5.37228132])"
      ]
     },
     "execution_count": 28,
     "metadata": {},
     "output_type": "execute_result"
    }
   ],
   "source": [
    "# eigvals(a)\n",
    "# Compute the eigenvalues of a general matrix.\n",
    "\"\"\"Main difference between `eigvals` and `eig`: the eigenvectors aren't returned.\"\"\"\n",
    "d = np.array([[1,2],[3,4]])\n",
    "np.linalg.eigvals(d)"
   ]
  },
  {
   "cell_type": "code",
   "execution_count": 30,
   "metadata": {},
   "outputs": [
    {
     "data": {
      "text/plain": [
       "array([1., 6.])"
      ]
     },
     "execution_count": 30,
     "metadata": {},
     "output_type": "execute_result"
    }
   ],
   "source": [
    "# eigvalsh(a, UPLO='L')\n",
    "# Compute the eigenvalues of a Hermitian or real symmetric matrix.\n",
    "\"\"\"Main difference from eigh: the eigenvectors are not computed.\"\"\"\n",
    "b = np.array([[5.+0.j, 0.-2.j], [0.+2.j, 2.-0.j]])\n",
    "np.linalg.eigvalsh(b)"
   ]
  },
  {
   "cell_type": "markdown",
   "metadata": {},
   "source": [
    "# Inverese"
   ]
  },
  {
   "cell_type": "code",
   "execution_count": 40,
   "metadata": {},
   "outputs": [
    {
     "data": {
      "text/plain": [
       "array([[ 3.15251974e+15, -6.30503948e+15,  3.15251974e+15],\n",
       "       [-6.30503948e+15,  1.26100790e+16, -6.30503948e+15],\n",
       "       [ 3.15251974e+15, -6.30503948e+15,  3.15251974e+15]])"
      ]
     },
     "execution_count": 40,
     "metadata": {},
     "output_type": "execute_result"
    }
   ],
   "source": [
    "# inv(a)\n",
    "# Compute the (multiplicative) inverse of a matrix.\n",
    "\"\"\"Given a square matrix `a`, return the matrix `ainv` satisfying ``dot(a, ainv) = dot(ainv, a) = eye(a.shape[0])``.\"\"\"\n",
    "a = np.array([[1,2],[3,4]])\n",
    "np.linalg.inv(a)\n",
    "b = np.array([[1,2,3],[4,5,6],[7,8,9]])\n",
    "np.linalg.inv(b)\n",
    "#np.linalg.inv(np.zeros((2,2)))"
   ]
  },
  {
   "cell_type": "markdown",
   "metadata": {},
   "source": [
    "# LeastSquares"
   ]
  },
  {
   "cell_type": "code",
   "execution_count": 58,
   "metadata": {},
   "outputs": [
    {
     "name": "stdout",
     "output_type": "stream",
     "text": [
      "0.9999999999999997 -0.9499999999999995\n"
     ]
    },
    {
     "name": "stderr",
     "output_type": "stream",
     "text": [
      "/Users/purnachandra.dasari/anaconda3/lib/python3.6/site-packages/ipykernel_launcher.py:19: FutureWarning: `rcond` parameter will change to the default of machine precision times ``max(M, N)`` where M and N are the input matrix dimensions.\n",
      "To use the future default and silence this warning we advise to pass `rcond=None`, to keep using the old, explicitly pass `rcond=-1`.\n"
     ]
    },
    {
     "data": {
      "image/png": "[encoded data removed]",
      "text/plain": [
       "<Figure size 432x288 with 1 Axes>"
      ]
     },
     "metadata": {},
     "output_type": "display_data"
    }
   ],
   "source": [
    "# lstsq(a, b, rcond='warn')\n",
    "# Return the least-squares solution to a linear matrix equation.\n",
    "    \n",
    "\"\"\"Solves the equation `a x = b` by computing a vector `x` that minimizes the Euclidean 2-norm `|| b - a x ||^2`.  The equation may\n",
    "    be under-, well-, or over- determined (i.e., the number of linearly independent rows of `a` can be less than, equal to, or\n",
    "    greater than its number of linearly independent columns).  If `a`is square and of full rank, then `x` (but for round-off error) is\n",
    "    the \"exact\" solution of the equation.\"\"\"\n",
    "# Examples\n",
    "# ==========\n",
    "# Fit a line, ``y = mx + c``, through some noisy data-points:\n",
    "x = np.array([0, 1, 2, 3])\n",
    "y = np.array([-1, 0.2, 0.9, 2.1])\n",
    "'''By examining the coefficients, we see that the line should have a\n",
    "    gradient of roughly 1 and cut the y-axis at, more or less, -1.'''\n",
    "\n",
    "'''We can rewrite the line equation as ``y = Ap``, where ``A = [[x 1]]``\n",
    "    and ``p = [[m], [c]]``.  Now use `lstsq` to solve for `p`:'''\n",
    "A = np.vstack([x, np.ones(len(x))]).T\n",
    "m, c = np.linalg.lstsq(A, y)[0]\n",
    "print(m,c)\n",
    "\n",
    "#Plot the data along with the fitted line:\n",
    "import matplotlib.pyplot as plt\n",
    "plt.plot(x, y, 'o', label='Original data', markersize=10)\n",
    "plt.plot(x, m*x + c, 'r', label='Fitted line')\n",
    "plt.legend()\n",
    "plt.show()"
   ]
  },
  {
   "cell_type": "markdown",
   "metadata": {},
   "source": [
    "# MatrixPower"
   ]
  },
  {
   "cell_type": "code",
   "execution_count": 62,
   "metadata": {},
   "outputs": [
    {
     "data": {
      "text/plain": [
       "array([[ 7, 10],\n",
       "       [15, 22]])"
      ]
     },
     "execution_count": 62,
     "metadata": {},
     "output_type": "execute_result"
    }
   ],
   "source": [
    "# matrix_power(M, n)\n",
    "\"\"\"  Raise a square matrix to the (integer) power `n`.\n",
    "    \n",
    "    For positive integers `n`, the power is computed by repeated matrix\n",
    "    squarings and matrix multiplications. If ``n == 0``, the identity matrix\n",
    "    of the same shape as M is returned. If ``n < 0``, the inverse\n",
    "    is computed and then raised to the ``abs(n)``.\n",
    "    \n",
    "    Parameters\n",
    "    ----------\n",
    "    M : ndarray or matrix object\n",
    "        Matrix to be \"powered.\"  Must be square, i.e. ``M.shape == (m, m)``,\n",
    "        with `m` a positive integer.\n",
    "    n : int\n",
    "        The exponent can be any integer or long integer, positive,\n",
    "        negative, or zero.\"\"\"\n",
    "\n",
    "np.linalg.matrix_power([[1,2],[3,4]],2)"
   ]
  },
  {
   "cell_type": "markdown",
   "metadata": {},
   "source": [
    "# MatrixRank"
   ]
  },
  {
   "cell_type": "code",
   "execution_count": 71,
   "metadata": {},
   "outputs": [
    {
     "data": {
      "text/plain": [
       "3"
      ]
     },
     "execution_count": 71,
     "metadata": {},
     "output_type": "execute_result"
    }
   ],
   "source": [
    "# matrix_rank(M, tol=None, hermitian=False)\n",
    "'''Return matrix rank of array using SVD method\n",
    "    \n",
    "    Rank of the array is the number of singular values of the array that are\n",
    "    greater than `tol`.'''\n",
    "\n",
    "np.linalg.matrix_rank(np.eye(3))\n",
    "np.linalg.matrix_rank(np.array([[1,2,3],[4,5,6],[16,25,36]]))"
   ]
  },
  {
   "cell_type": "markdown",
   "metadata": {},
   "source": [
    "# MultiDotProduct"
   ]
  },
  {
   "cell_type": "code",
   "execution_count": 3,
   "metadata": {},
   "outputs": [
    {
     "data": {
      "text/plain": [
       "array([[13288.42537058, 34898.09515608, 31365.20068832, ...,\n",
       "        31589.50550195, 33115.66889018, 25483.59778266],\n",
       "       [16447.73189513, 43217.13211728, 38836.11649377, ...,\n",
       "        39109.48310072, 41023.2971555 , 31554.30555267],\n",
       "       [15779.57695304, 41460.64374738, 37254.8355058 , ...,\n",
       "        37523.08545722, 39350.08881743, 30275.61970562],\n",
       "       ...,\n",
       "       [15407.8220707 , 40465.63862964, 36371.30613393, ...,\n",
       "        36617.0650511 , 38395.4488946 , 29547.17415645],\n",
       "       [16552.45274728, 43469.50288299, 39071.10871931, ...,\n",
       "        39344.63693901, 41264.89089349, 31741.62325864],\n",
       "       [14902.40839416, 39150.14961872, 35186.17850167, ...,\n",
       "        35414.09410287, 37164.9805239 , 28585.91245661]])"
      ]
     },
     "execution_count": 3,
     "metadata": {},
     "output_type": "execute_result"
    }
   ],
   "source": [
    "# multi_dot(arrays)\n",
    "'''Compute the dot product of two or more arrays in a single function call,\n",
    "    while automatically selecting the fastest evaluation order.\n",
    "    \n",
    "    `multi_dot` chains `numpy.dot` and uses optimal parenthesization\n",
    "    of the matrices [1]_ [2]_. Depending on the shapes of the matrices,\n",
    "    this can speed up the multiplication a lot.\n",
    "    \n",
    "    If the first argument is 1-D it is treated as a row vector.\n",
    "    If the last argument is 1-D it is treated as a column vector.\n",
    "    The other arguments must be 2-D.'''\n",
    "\n",
    "A = np.random.random((10000, 100))\n",
    "B = np.random.random((100, 1000))\n",
    "C = np.random.random((1000, 5))\n",
    "D = np.random.random((5, 333))\n",
    "np.linalg.multi_dot([A,B,C,D]) \n",
    "#(OR)\n",
    "np.dot(np.dot(np.dot(A, B), C), D) # OR (A.dot(B).dot(C).dot(D))"
   ]
  },
  {
   "cell_type": "markdown",
   "metadata": {},
   "source": [
    "# Norm"
   ]
  },
  {
   "cell_type": "code",
   "execution_count": 17,
   "metadata": {},
   "outputs": [
    {
     "name": "stdout",
     "output_type": "stream",
     "text": [
      "L1 Norm is:  6.0\n",
      "L2 Norm is:  8.774964387392123\n",
      "[[0 1 2]\n",
      " [3 4 5]\n",
      " [6 7 8]]\n",
      "L1 norm of a matrix is: 15.0\n",
      "L2 norm of a matrix is: 14.226707390822694\n"
     ]
    }
   ],
   "source": [
    "#norm(x, ord=None, axis=None, keepdims=False)\n",
    "# Matrix or vector norm.\n",
    "'''This function is able to return one of eight different matrix norms,\n",
    "    or one of an infinite number of vector norms (described below), depending\n",
    "    on the value of the ``ord`` parameter.\n",
    "    \n",
    "    Parameters\n",
    "    ----------\n",
    "    x : array_like\n",
    "        Input array.  If `axis` is None, `x` must be 1-D or 2-D.\n",
    "    ord : {non-zero int, inf, -inf, 'fro', 'nuc'}, optional\n",
    "        Order of the norm (see table under ``Notes``). inf means numpy's\n",
    "        `inf` object.\n",
    "    axis : {int, 2-tuple of ints, None}, optional\n",
    "        If `axis` is an integer, it specifies the axis of `x` along which to\n",
    "        compute the vector norms.  If `axis` is a 2-tuple, it specifies the\n",
    "        axes that hold 2-D matrices, and the matrix norms of these matrices\n",
    "        are computed.  If `axis` is None then either a vector norm (when `x`\n",
    "        is 1-D) or a matrix norm (when `x` is 2-D) is returned.\n",
    "    keepdims : bool, optional\n",
    "        If this is set to True, the axes which are normed over are left in the\n",
    "        result as dimensions with size one.  With this option the result will\n",
    "        broadcast correctly against the original `x`.'''\n",
    "l1 = np.array([1,2,3])\n",
    "l2 = np.array([4,5,6])\n",
    "print(\"L1 Norm is: \",np.linalg.norm(l1,1))\n",
    "print(\"L2 Norm is: \",np.linalg.norm(l2,2))\n",
    "m = np.arange(9).reshape(3,3)\n",
    "print(m)\n",
    "print(\"L1 norm of a matrix is:\",np.linalg.norm(m,1))\n",
    "print(\"L2 norm of a matrix is:\",np.linalg.norm(m,2))"
   ]
  },
  {
   "cell_type": "markdown",
   "metadata": {},
   "source": [
    "# Pinv"
   ]
  },
  {
   "cell_type": "code",
   "execution_count": 24,
   "metadata": {},
   "outputs": [
    {
     "data": {
      "text/plain": [
       "array([[ 0.13591381, -0.26024243, -0.50114042, -0.10399155,  0.02697434,\n",
       "         0.00107968,  0.14717537,  0.34969644,  0.11637925],\n",
       "       [ 0.04030434, -0.07277032,  0.66346946, -0.13296625, -0.21682788,\n",
       "         0.40435759, -0.14735043, -0.21831455, -0.51889547],\n",
       "       [-0.19125515,  0.37683261, -0.02119376,  0.00386945, -0.08740907,\n",
       "        -0.17173622,  0.12184813,  0.03311287, -0.05540314],\n",
       "       [ 0.0558934 ,  0.32351097, -0.57051749, -0.25348941,  0.15372282,\n",
       "        -0.2017819 ,  0.11469055,  0.25197966,  0.42271144],\n",
       "       [ 0.06342965, -0.34429378, -0.22839542, -0.15954253, -0.08211141,\n",
       "        -0.07340965,  0.05579535,  0.15355065,  0.27347371],\n",
       "       [-0.36005818,  0.25952628, -0.44281197, -0.04302152,  0.20979362,\n",
       "        -0.11100956,  0.12164172,  0.17719019,  0.39512046]])"
      ]
     },
     "execution_count": 24,
     "metadata": {},
     "output_type": "execute_result"
    }
   ],
   "source": [
    "# pinv(a, rcond=1e-15)\n",
    "'''  Compute the (Moore-Penrose) pseudo-inverse of a matrix.\n",
    "    \n",
    "    Calculate the generalized inverse of a matrix using its\n",
    "    singular-value decomposition (SVD) and including all\n",
    "    *large* singular values.'''\n",
    "    \n",
    "a = np.random.randn(9, 6)\n",
    "B = np.linalg.pinv(a)\n",
    "B"
   ]
  },
  {
   "cell_type": "markdown",
   "metadata": {},
   "source": [
    "# QR Factorization"
   ]
  },
  {
   "cell_type": "code",
   "execution_count": 42,
   "metadata": {},
   "outputs": [
    {
     "name": "stdout",
     "output_type": "stream",
     "text": [
      "Orthonormal matrix Q is: \n",
      " [[ 0.          0.8660254 ]\n",
      " [-0.40824829  0.28867513]\n",
      " [-0.40824829  0.28867513]\n",
      " [-0.81649658 -0.28867513]]\n",
      "\n",
      "\n",
      "RightAngle matrix R is: \n",
      "  [[-2.44948974 -1.63299316]\n",
      " [ 0.          1.15470054]]\n"
     ]
    }
   ],
   "source": [
    "#qr(a, mode='reduced')\n",
    "'''Compute the qr factorization of a matrix.\n",
    "    \n",
    "    Factor the matrix `a` as *qr*, where `q` is orthonormal and `r` is\n",
    "    upper-triangular.'''\n",
    "A = np.array([[0, 1], [1, 1], [1, 1], [2, 1]])\n",
    "A\n",
    "q,r = np.linalg.qr(A,mode='reduced')\n",
    "print(\"Orthonormal matrix Q is: \\n\",q)\n",
    "print('\\n')\n",
    "print(\"RightAngle matrix R is: \\n \",r)"
   ]
  },
  {
   "cell_type": "markdown",
   "metadata": {},
   "source": [
    "# SlogDet"
   ]
  },
  {
   "cell_type": "code",
   "execution_count": null,
   "metadata": {},
   "outputs": [],
   "source": [
    "# slogdet(a)\n",
    "'''Compute the sign and (natural) logarithm of the determinant of an array.\n",
    "    \n",
    "    If an array has a very small or very large determinant, then a call to\n",
    "    `det` may overflow or underflow. This routine is more robust against such\n",
    "    issues, because it computes the logarithm of the determinant rather than\n",
    "    the determinant itself.'''"
   ]
  },
  {
   "cell_type": "markdown",
   "metadata": {},
   "source": [
    "# Solve"
   ]
  },
  {
   "cell_type": "code",
   "execution_count": 47,
   "metadata": {},
   "outputs": [
    {
     "data": {
      "text/plain": [
       "array([2., 3.])"
      ]
     },
     "execution_count": 47,
     "metadata": {},
     "output_type": "execute_result"
    }
   ],
   "source": [
    "# solve(a, b)\n",
    "'''Solve a linear matrix equation, or system of linear scalar equations.\n",
    "    \n",
    "    Computes the \"exact\" solution, `x`, of the well-determined, i.e., full\n",
    "    rank, linear matrix equation `ax = b`.'''\n",
    "\n",
    "''' Examples\n",
    "    --------\n",
    "    Solve the system of equations ``3 * x0 + x1 = 9`` and ``x0 + 2 * x1 = 8``:'''\n",
    "a = np.array([[3,1], [1,2]])\n",
    "b = np.array([9,8])\n",
    "x = np.linalg.solve(a,b)\n",
    "x"
   ]
  },
  {
   "cell_type": "markdown",
   "metadata": {},
   "source": [
    "# SVD (SingularValueDecomposition)"
   ]
  },
  {
   "cell_type": "code",
   "execution_count": 66,
   "metadata": {},
   "outputs": [
    {
     "data": {
      "text/plain": [
       "True"
      ]
     },
     "execution_count": 66,
     "metadata": {},
     "output_type": "execute_result"
    }
   ],
   "source": [
    "# svd(a, full_matrices=True, compute_uv=True)\n",
    "'''Singular Value Decomposition.\n",
    "    \n",
    "    When `a` is a 2D array, it is factorized as ``u @ np.diag(s) @ vh\n",
    "    = (u * s) @ vh``, where `u` and `vh` are 2D unitary arrays and `s` is a 1D\n",
    "    array of `a`'s singular values. When `a` is higher-dimensional, SVD is\n",
    "    applied in stacked mode as explained below.'''\n",
    "a = np.random.randn(9, 6) + 1j*np.random.randn(9, 6)\n",
    "b = np.random.randn(2, 7, 8, 3) + 1j*np.random.randn(2, 7, 8, 3)\n",
    "\n",
    "# Reconstruction based on full SVD, 2D case:\n",
    "\n",
    "u, s, vh = np.linalg.svd(a, full_matrices=True)\n",
    "u.shape, s.shape, vh.shape\n",
    "np.allclose(a, np.dot(u[:, :6] * s, vh))\n",
    "smat = np.zeros((9, 6), dtype=complex)\n",
    "smat[:6, :6] = np.diag(s)\n",
    "np.allclose(a, np.dot(u, np.dot(smat, vh)))\n",
    "\n",
    "# Reconstruction based on reduced SVD, 2D case:\n",
    "\n",
    "u, s, vh = np.linalg.svd(a, full_matrices=False)\n",
    "u.shape, s.shape, vh.shape\n",
    "np.allclose(a, np.dot(u * s, vh))\n",
    "smat = np.diag(s)\n",
    "np.allclose(a, np.dot(u, np.dot(smat, vh)))"
   ]
  },
  {
   "cell_type": "markdown",
   "metadata": {},
   "source": [
    "# TensorInverse"
   ]
  },
  {
   "cell_type": "code",
   "execution_count": 76,
   "metadata": {},
   "outputs": [
    {
     "data": {
      "text/plain": [
       "True"
      ]
     },
     "execution_count": 76,
     "metadata": {},
     "output_type": "execute_result"
    }
   ],
   "source": [
    "#tensorinv(a, ind=2)\n",
    "'''Compute the 'inverse' of an N-dimensional array.\n",
    "    \n",
    "    The result is an inverse for `a` relative to the tensordot operation\n",
    "    ``tensordot(a, b, ind)``, i. e., up to floating-point accuracy,\n",
    "    ``tensordot(tensorinv(a), a, ind)`` is the \"identity\" tensor for the\n",
    "    tensordot operation.\n",
    "    \n",
    "    Parameters\n",
    "    ----------\n",
    "    a : array_like\n",
    "        Tensor to 'invert'. Its shape must be 'square', i. e.,\n",
    "        ``prod(a.shape[:ind]) == prod(a.shape[ind:])``.\n",
    "    ind : int, optional\n",
    "        Number of first indices that are involved in the inverse sum.\n",
    "        Must be a positive integer, default is 2.'''\n",
    "a = np.eye(4*6)\n",
    "a.shape = (4, 6, 8, 3)\n",
    "ainv = np.linalg.tensorinv(a, ind=2)\n",
    "ainv.shape\n",
    "b = np.random.randn(4, 6)\n",
    "np.allclose(np.tensordot(ainv, b), np.linalg.tensorsolve(a, b))"
   ]
  },
  {
   "cell_type": "markdown",
   "metadata": {},
   "source": [
    "# TensorSolve"
   ]
  },
  {
   "cell_type": "code",
   "execution_count": 84,
   "metadata": {},
   "outputs": [
    {
     "name": "stdout",
     "output_type": "stream",
     "text": [
      "[[1. 0. 0. 0. 0. 0. 0. 0. 0. 0. 0. 0. 0. 0. 0. 0. 0. 0. 0. 0. 0. 0. 0. 0.]\n",
      " [0. 1. 0. 0. 0. 0. 0. 0. 0. 0. 0. 0. 0. 0. 0. 0. 0. 0. 0. 0. 0. 0. 0. 0.]\n",
      " [0. 0. 1. 0. 0. 0. 0. 0. 0. 0. 0. 0. 0. 0. 0. 0. 0. 0. 0. 0. 0. 0. 0. 0.]\n",
      " [0. 0. 0. 1. 0. 0. 0. 0. 0. 0. 0. 0. 0. 0. 0. 0. 0. 0. 0. 0. 0. 0. 0. 0.]\n",
      " [0. 0. 0. 0. 1. 0. 0. 0. 0. 0. 0. 0. 0. 0. 0. 0. 0. 0. 0. 0. 0. 0. 0. 0.]\n",
      " [0. 0. 0. 0. 0. 1. 0. 0. 0. 0. 0. 0. 0. 0. 0. 0. 0. 0. 0. 0. 0. 0. 0. 0.]\n",
      " [0. 0. 0. 0. 0. 0. 1. 0. 0. 0. 0. 0. 0. 0. 0. 0. 0. 0. 0. 0. 0. 0. 0. 0.]\n",
      " [0. 0. 0. 0. 0. 0. 0. 1. 0. 0. 0. 0. 0. 0. 0. 0. 0. 0. 0. 0. 0. 0. 0. 0.]\n",
      " [0. 0. 0. 0. 0. 0. 0. 0. 1. 0. 0. 0. 0. 0. 0. 0. 0. 0. 0. 0. 0. 0. 0. 0.]\n",
      " [0. 0. 0. 0. 0. 0. 0. 0. 0. 1. 0. 0. 0. 0. 0. 0. 0. 0. 0. 0. 0. 0. 0. 0.]\n",
      " [0. 0. 0. 0. 0. 0. 0. 0. 0. 0. 1. 0. 0. 0. 0. 0. 0. 0. 0. 0. 0. 0. 0. 0.]\n",
      " [0. 0. 0. 0. 0. 0. 0. 0. 0. 0. 0. 1. 0. 0. 0. 0. 0. 0. 0. 0. 0. 0. 0. 0.]\n",
      " [0. 0. 0. 0. 0. 0. 0. 0. 0. 0. 0. 0. 1. 0. 0. 0. 0. 0. 0. 0. 0. 0. 0. 0.]\n",
      " [0. 0. 0. 0. 0. 0. 0. 0. 0. 0. 0. 0. 0. 1. 0. 0. 0. 0. 0. 0. 0. 0. 0. 0.]\n",
      " [0. 0. 0. 0. 0. 0. 0. 0. 0. 0. 0. 0. 0. 0. 1. 0. 0. 0. 0. 0. 0. 0. 0. 0.]\n",
      " [0. 0. 0. 0. 0. 0. 0. 0. 0. 0. 0. 0. 0. 0. 0. 1. 0. 0. 0. 0. 0. 0. 0. 0.]\n",
      " [0. 0. 0. 0. 0. 0. 0. 0. 0. 0. 0. 0. 0. 0. 0. 0. 1. 0. 0. 0. 0. 0. 0. 0.]\n",
      " [0. 0. 0. 0. 0. 0. 0. 0. 0. 0. 0. 0. 0. 0. 0. 0. 0. 1. 0. 0. 0. 0. 0. 0.]\n",
      " [0. 0. 0. 0. 0. 0. 0. 0. 0. 0. 0. 0. 0. 0. 0. 0. 0. 0. 1. 0. 0. 0. 0. 0.]\n",
      " [0. 0. 0. 0. 0. 0. 0. 0. 0. 0. 0. 0. 0. 0. 0. 0. 0. 0. 0. 1. 0. 0. 0. 0.]\n",
      " [0. 0. 0. 0. 0. 0. 0. 0. 0. 0. 0. 0. 0. 0. 0. 0. 0. 0. 0. 0. 1. 0. 0. 0.]\n",
      " [0. 0. 0. 0. 0. 0. 0. 0. 0. 0. 0. 0. 0. 0. 0. 0. 0. 0. 0. 0. 0. 1. 0. 0.]\n",
      " [0. 0. 0. 0. 0. 0. 0. 0. 0. 0. 0. 0. 0. 0. 0. 0. 0. 0. 0. 0. 0. 0. 1. 0.]\n",
      " [0. 0. 0. 0. 0. 0. 0. 0. 0. 0. 0. 0. 0. 0. 0. 0. 0. 0. 0. 0. 0. 0. 0. 1.]]\n",
      "[[-0.81466632 -0.23324291 -0.59967096 -1.3018495 ]\n",
      " [-1.35798754 -0.34794977 -0.49021967  1.52848214]\n",
      " [ 1.46429608 -0.34150809  1.37431941  0.57296412]\n",
      " [-0.2562709   0.55619301 -1.25126683  0.18037733]\n",
      " [ 1.3324408  -1.39966099 -0.86992729  0.50534959]\n",
      " [ 0.20193394 -0.48104673  0.37134607  0.04489708]]\n",
      "[[[-0.81466632 -0.23324291 -0.59967096 -1.3018495 ]\n",
      "  [-1.35798754 -0.34794977 -0.49021967  1.52848214]\n",
      "  [ 1.46429608 -0.34150809  1.37431941  0.57296412]]\n",
      "\n",
      " [[-0.2562709   0.55619301 -1.25126683  0.18037733]\n",
      "  [ 1.3324408  -1.39966099 -0.86992729  0.50534959]\n",
      "  [ 0.20193394 -0.48104673  0.37134607  0.04489708]]]\n"
     ]
    },
    {
     "data": {
      "text/plain": [
       "True"
      ]
     },
     "execution_count": 84,
     "metadata": {},
     "output_type": "execute_result"
    }
   ],
   "source": [
    "# tensorsolve(a, b, axes=None)\n",
    "'''Solve the tensor equation ``a x = b`` for x.\n",
    "    \n",
    "    It is assumed that all indices of `x` are summed over in the product,\n",
    "    together with the rightmost indices of `a`, as is done in, for example,\n",
    "    ``tensordot(a, x, axes=b.ndim)``.\n",
    "    \n",
    "    Parameters\n",
    "    ----------\n",
    "    a : array_like\n",
    "        Coefficient tensor, of shape ``b.shape + Q``. `Q`, a tuple, equals\n",
    "        the shape of that sub-tensor of `a` consisting of the appropriate\n",
    "        number of its rightmost indices, and must be such that\n",
    "        ``prod(Q) == prod(b.shape)`` (in which sense `a` is said to be\n",
    "        'square').\n",
    "    b : array_like\n",
    "        Right-hand tensor, which can be of any shape.\n",
    "    axes : tuple of ints, optional\n",
    "        Axes in `a` to reorder to the right, before inversion.\n",
    "        If None (default), no reordering is done.'''\n",
    "a = np.eye(2*3*4)\n",
    "print(a)\n",
    "a.shape = (2*3, 4, 2, 3, 4)\n",
    "b = np.random.randn(2*3, 4)\n",
    "print(b)\n",
    "x = np.linalg.tensorsolve(a, b)\n",
    "print(x)\n",
    "x.shape\n",
    "np.allclose(np.tensordot(a, x, axes=3), b)"
   ]
  },
  {
   "cell_type": "markdown",
   "metadata": {},
   "source": [
    "# CanCast"
   ]
  },
  {
   "cell_type": "code",
   "execution_count": 101,
   "metadata": {},
   "outputs": [
    {
     "name": "stdout",
     "output_type": "stream",
     "text": [
      "True\n",
      "True\n",
      "False\n",
      "True\n",
      "True\n",
      "True\n",
      "False\n",
      "True\n",
      "True\n",
      "True\n",
      "True\n"
     ]
    }
   ],
   "source": [
    "# can_cast(...)\n",
    "# can_cast(from_, to, casting='safe')\n",
    "'''Returns True if cast between data types can occur according to the\n",
    "    casting rule.  If from is a scalar or array scalar, also returns\n",
    "    True if the scalar value can be cast without overflow or truncation\n",
    "    to an integer.\n",
    "    \n",
    "    Parameters\n",
    "    ----------\n",
    "    from_ : dtype, dtype specifier, scalar, or array\n",
    "        Data type, scalar, or array to cast from.\n",
    "    to : dtype or dtype specifier\n",
    "        Data type to cast to.\n",
    "    casting : {'no', 'equiv', 'safe', 'same_kind', 'unsafe'}, optional\n",
    "        Controls what kind of data casting may occur.\n",
    "    \n",
    "          * 'no' means the data types should not be cast at all.\n",
    "          * 'equiv' means only byte-order changes are allowed.\n",
    "          * 'safe' means only casts which can preserve values are allowed.\n",
    "          * 'same_kind' means only safe casts or casts within a kind,\n",
    "            like float64 to float32, are allowed.\n",
    "          * 'unsafe' means any data conversions may be done.'''\n",
    "# Basic examples\n",
    "\n",
    "print(np.can_cast(np.int32, np.int64))\n",
    "print(np.can_cast(np.float64, complex))\n",
    "print(np.can_cast(complex, float))\n",
    "print(np.can_cast('i8', 'f8'))\n",
    "\n",
    "# Casting scalars\n",
    "\n",
    "print(np.can_cast(100, 'i1'))\n",
    "\n",
    "# Using the casting rules\n",
    "\n",
    "print(np.can_cast('i8', 'i8', 'no'))\n",
    "print(np.can_cast('<i8', '>i8', 'no'))\n",
    "print(np.can_cast('<i8', '>i8', 'equiv'))\n",
    "print(np.can_cast('<i4', '>i8', 'safe'))\n",
    "print(np.can_cast('<i8', '>i4', 'same_kind'))\n",
    "print(np.can_cast('<i8', '>u4', 'unsafe'))"
   ]
  },
  {
   "cell_type": "markdown",
   "metadata": {},
   "source": [
    "# ColumnStack"
   ]
  },
  {
   "cell_type": "code",
   "execution_count": 104,
   "metadata": {},
   "outputs": [
    {
     "name": "stdout",
     "output_type": "stream",
     "text": [
      "Column stack of a & b are: \n",
      " [[1 2]\n",
      " [2 3]\n",
      " [3 4]]\n"
     ]
    }
   ],
   "source": [
    "a = np.array((1,2,3))\n",
    "b = np.array((2,3,4))\n",
    "print(\"Column stack of a & b are: \\n\",np.column_stack((a,b)))"
   ]
  },
  {
   "cell_type": "markdown",
   "metadata": {},
   "source": [
    "# compress"
   ]
  },
  {
   "cell_type": "code",
   "execution_count": 105,
   "metadata": {},
   "outputs": [
    {
     "data": {
      "text/plain": [
       "array([[3, 4]])"
      ]
     },
     "execution_count": 105,
     "metadata": {},
     "output_type": "execute_result"
    }
   ],
   "source": [
    "# compress(condition, a, axis=None, out=None)\n",
    "'''Return selected slices of an array along given axis.\n",
    "    \n",
    "    When working along a given axis, a slice along that axis is returned in\n",
    "    `output` for each index where `condition` evaluates to True. When\n",
    "    working on a 1-D array, `compress` is equivalent to `extract`.'''\n",
    "a = np.array([[1, 2], [3, 4], [5, 6]])\n",
    "np.compress([0, 1], a, axis=0)"
   ]
  },
  {
   "cell_type": "markdown",
   "metadata": {},
   "source": [
    "# Concate"
   ]
  },
  {
   "cell_type": "code",
   "execution_count": 111,
   "metadata": {},
   "outputs": [
    {
     "name": "stdout",
     "output_type": "stream",
     "text": [
      "Concatenated array along the column is : \n",
      " [[1 2]\n",
      " [3 4]\n",
      " [5 6]]\n",
      "Concatenated array along the row is : \n",
      " [[1 2 5]\n",
      " [3 4 6]]\n"
     ]
    }
   ],
   "source": [
    "# concatenate(...)\n",
    "'''concatenate((a1, a2, ...), axis=0, out=None)\n",
    "    \n",
    "    Join a sequence of arrays along an existing axis.\n",
    "    \n",
    "    Parameters\n",
    "    ----------\n",
    "    a1, a2, ... : sequence of array_like\n",
    "        The arrays must have the same shape, except in the dimension\n",
    "        corresponding to `axis` (the first, by default).\n",
    "    axis : int, optional\n",
    "        The axis along which the arrays will be joined.  Default is 0.\n",
    "    out : ndarray, optional\n",
    "        If provided, the destination to place the result. The shape must be\n",
    "        correct, matching that of what concatenate would have returned if no\n",
    "        out argument were specified.\n",
    "Returns\n",
    "    -------\n",
    "    res : ndarray\n",
    "        The concatenated array.'''\n",
    "a = np.array([[1, 2], [3, 4]])\n",
    "b = np.array([[5, 6]])\n",
    "print(\"Concatenated array along the column is : \\n\",np.concatenate((a,b),axis=0))\n",
    "print(\"Concatenated array along the row is : \\n\",np.concatenate((a,b.T),axis=1))"
   ]
  },
  {
   "cell_type": "markdown",
   "metadata": {},
   "source": [
    "# Convolve"
   ]
  },
  {
   "cell_type": "code",
   "execution_count": 117,
   "metadata": {},
   "outputs": [
    {
     "name": "stdout",
     "output_type": "stream",
     "text": [
      "Convolution full mode is: \n",
      " [0.  1.  2.5 4.  1.5]\n",
      "Convolution same mode is: \n",
      " [1.  2.5 4. ]\n",
      "Convolution valid mode is: \n",
      " [2.5]\n"
     ]
    }
   ],
   "source": [
    "# convolve(a, v, mode='full')\n",
    "'''Returns the discrete, linear convolution of two one-dimensional sequences.\n",
    "    \n",
    "    The convolution operator is often seen in signal processing, where it\n",
    "    models the effect of a linear time-invariant system on a signal [1]_.  In\n",
    "    probability theory, the sum of two independent random variables is\n",
    "    distributed according to the convolution of their individual\n",
    "    distributions.\n",
    "    \n",
    "    If `v` is longer than `a`, the arrays are swapped before computation.\n",
    "    \n",
    "    Parameters\n",
    "    ----------\n",
    "    a : (N,) array_like\n",
    "        First one-dimensional input array.\n",
    "    v : (M,) array_like\n",
    "        Second one-dimensional input array.\n",
    "    mode : {'full', 'valid', 'same'}, optional\n",
    "        'full':\n",
    "          By default, mode is 'full'.  This returns the convolution\n",
    "          at each point of overlap, with an output shape of (N+M-1,). At\n",
    "          the end-points of the convolution, the signals do not overlap\n",
    "          completely, and boundary effects may be seen.\n",
    "    \n",
    "        'same':\n",
    "          Mode 'same' returns output of length ``max(M, N)``.  Boundary\n",
    "          effects are still visible.\n",
    "    \n",
    "        'valid':\n",
    "          Mode 'valid' returns output of length\n",
    "          ``max(M, N) - min(M, N) + 1``.  The convolution product is only given\n",
    "          for points where the signals overlap completely.  Values outside\n",
    "          the signal boundary have no effect.'''\n",
    "\n",
    "print(\"Convolution full mode is: \\n\",np.convolve([1, 2, 3], [0, 1, 0.5]))\n",
    "print(\"Convolution same mode is: \\n\",np.convolve([1,2,3],[0,1,0.5], 'same'))\n",
    "print(\"Convolution valid mode is: \\n\",np.convolve([1,2,3],[0,1,0.5], 'valid'))"
   ]
  },
  {
   "cell_type": "markdown",
   "metadata": {},
   "source": [
    "# Copy"
   ]
  },
  {
   "cell_type": "code",
   "execution_count": 120,
   "metadata": {},
   "outputs": [
    {
     "name": "stdout",
     "output_type": "stream",
     "text": [
      "copy of 'x' is: \n",
      " [1 2 3]\n"
     ]
    }
   ],
   "source": [
    "# copy(a, order='K')\n",
    "'''Return an array copy of the given object.\n",
    "    \n",
    "    Parameters\n",
    "    ----------\n",
    "    a : array_like\n",
    "        Input data.\n",
    "    order : {'C', 'F', 'A', 'K'}, optional\n",
    "        Controls the memory layout of the copy. 'C' means C-order,\n",
    "        'F' means F-order, 'A' means 'F' if `a` is Fortran contiguous,\n",
    "        'C' otherwise. 'K' means match the layout of `a` as closely\n",
    "        as possible. (Note that this function and :meth:`ndarray.copy` are very\n",
    "        similar, but have different default values for their order=\n",
    "        arguments.)\n",
    "    \n",
    "    Returns\n",
    "    -------\n",
    "    arr : ndarray\n",
    "        Array interpretation of `a`.'''\n",
    "x = np.array([1, 2, 3])\n",
    "z = np.copy(x)\n",
    "print(\"copy of 'x' is: \\n\",z)"
   ]
  },
  {
   "cell_type": "markdown",
   "metadata": {},
   "source": [
    "# Correlate"
   ]
  },
  {
   "cell_type": "code",
   "execution_count": 123,
   "metadata": {},
   "outputs": [
    {
     "data": {
      "text/plain": [
       "array([0.5, 2. , 3.5, 3. , 0. ])"
      ]
     },
     "execution_count": 123,
     "metadata": {},
     "output_type": "execute_result"
    }
   ],
   "source": [
    "# correlate(a, v, mode='valid')\n",
    "'''Cross-correlation of two 1-dimensional sequences.\n",
    "    \n",
    "    This function computes the correlation as generally defined in signal\n",
    "    processing texts::\n",
    "    \n",
    "        c_{av}[k] = sum_n a[n+k] * conj(v[n])\n",
    "    \n",
    "    with a and v sequences being zero-padded where necessary and conj being\n",
    "    the conjugate.\n",
    "    \n",
    "    Parameters\n",
    "    ----------\n",
    "    a, v : array_like\n",
    "        Input sequences.\n",
    "    mode : {'valid', 'same', 'full'}, optional\n",
    "        Refer to the `convolve` docstring.  Note that the default\n",
    "        is 'valid', unlike `convolve`, which uses 'full'.\n",
    "    old_behavior : bool\n",
    "        `old_behavior` was removed in NumPy 1.10. If you need the old\n",
    "        behavior, use `multiarray.correlate`.\n",
    "    \n",
    "    Returns\n",
    "    -------\n",
    "    out : ndarray\n",
    "        Discrete cross-correlation of `a` and `v`.'''\n",
    "np.correlate([1, 2, 3], [0, 1, 0.5])\n",
    "np.correlate([1, 2, 3], [0, 1, 0.5], \"same\")\n",
    "np.correlate([1, 2, 3], [0, 1, 0.5], \"full\")"
   ]
  },
  {
   "cell_type": "markdown",
   "metadata": {},
   "source": [
    "# CountNonZero"
   ]
  },
  {
   "cell_type": "code",
   "execution_count": 128,
   "metadata": {},
   "outputs": [
    {
     "name": "stdout",
     "output_type": "stream",
     "text": [
      "5\n",
      "[1 1 1 1 1]\n",
      "[2 3]\n"
     ]
    }
   ],
   "source": [
    "# count_nonzero(a, axis=None)\n",
    "'''Counts the number of non-zero values in the array ``a``.\n",
    "    \n",
    "    The word \"non-zero\" is in reference to the Python 2.x\n",
    "    built-in method ``__nonzero__()`` (renamed ``__bool__()``\n",
    "    in Python 3.x) of Python objects that tests an object's\n",
    "    \"truthfulness\". For example, any number is considered\n",
    "    truthful if it is nonzero, whereas any string is considered\n",
    "    truthful if it is not the empty string. Thus, this function\n",
    "    (recursively) counts how many elements in ``a`` (and in\n",
    "    sub-arrays thereof) have their ``__nonzero__()`` or ``__bool__()``\n",
    "    method evaluated to ``True``.\n",
    "    \n",
    "    Parameters\n",
    "    ----------\n",
    "    a : array_like\n",
    "        The array for which to count non-zeros.\n",
    "    axis : int or tuple, optional\n",
    "        Axis or tuple of axes along which to count non-zeros.\n",
    "        Default is None, meaning that non-zeros will be counted\n",
    "        along a flattened version of ``a``.\n",
    "    Returns\n",
    "    -------\n",
    "    count : int or array of int\n",
    "        Number of non-zero values in the array along a given axis.\n",
    "        Otherwise, the total number of non-zero values in the array\n",
    "        is returned.'''\n",
    "print(np.count_nonzero([[0,1,7,0,0],[3,0,0,2,19]]))\n",
    "print(np.count_nonzero([[0,1,7,0,0],[3,0,0,2,19]], axis=0))\n",
    "print(np.count_nonzero([[0,1,7,0,0],[3,0,0,2,19]], axis=1))"
   ]
  },
  {
   "cell_type": "markdown",
   "metadata": {},
   "source": [
    "# Covariance"
   ]
  },
  {
   "cell_type": "code",
   "execution_count": 6,
   "metadata": {},
   "outputs": [
    {
     "name": "stdout",
     "output_type": "stream",
     "text": [
      "[[11.71       -4.286     ]\n",
      " [-4.286       2.14413333]]\n",
      "11.709999999999999\n"
     ]
    }
   ],
   "source": [
    "# cov(m, y=None, rowvar=True, bias=False, ddof=None, fweights=None, aweights=None)\n",
    "'''Estimate a covariance matrix, given data and weights.\n",
    "    \n",
    "    Covariance indicates the level to which two variables vary together.\n",
    "    If we examine N-dimensional samples, :math:`X = [x_1, x_2, ... x_N]^T`,\n",
    "    then the covariance matrix element :math:`C_{ij}` is the covariance of\n",
    "    :math:`x_i` and :math:`x_j`. The element :math:`C_{ii}` is the variance\n",
    "    of :math:`x_i`.\n",
    "    \n",
    "    See the notes for an outline of the algorithm.\n",
    "    \n",
    "    Parameters\n",
    "    ----------\n",
    "    m : array_like\n",
    "        A 1-D or 2-D array containing multiple variables and observations.\n",
    "        Each row of `m` represents a variable, and each column a single\n",
    "        observation of all those variables. Also see `rowvar` below.\n",
    "    y : array_like, optional\n",
    "        An additional set of variables and observations. `y` has the same form\n",
    "        as that of `m`.\n",
    "    rowvar : bool, optional\n",
    "        If `rowvar` is True (default), then each row represents a\n",
    "        variable, with observations in the columns. Otherwise, the relationship\n",
    "        is transposed: each column represents a variable, while the rows\n",
    "        contain observations.\n",
    "    bias : bool, optional\n",
    "        Default normalization (False) is by ``(N - 1)``, where ``N`` is the\n",
    "        number of observations given (unbiased estimate). If `bias` is True,\n",
    "        then normalization is by ``N``. These values can be overridden by using\n",
    "        the keyword ``ddof`` in numpy versions >= 1.5.\n",
    "    ddof : int, optional\n",
    "        If not ``None`` the default value implied by `bias` is overridden.\n",
    "        Note that ``ddof=1`` will return the unbiased estimate, even if both\n",
    "        `fweights` and `aweights` are specified, and ``ddof=0`` will return\n",
    "        the simple average. See the notes for the details. The default value\n",
    "        is ``None``.\n",
    "    \n",
    "        .. versionadded:: 1.5\n",
    "    fweights : array_like, int, optional\n",
    "        1-D array of integer freguency weights; the number of times each\n",
    "        observation vector should be repeated.\n",
    "    \n",
    "        .. versionadded:: 1.10\n",
    "    aweights : array_like, optional\n",
    "        1-D array of observation vector weights. These relative weights are\n",
    ":\n",
    "\n",
    "'''\n",
    "x = [-2.1, -1,  4.3]\n",
    "y = [3,  1.1,  0.12]\n",
    "X = np.stack((x, y), axis=0)\n",
    "print(np.cov(X))\n",
    "print(np.cov(x))"
   ]
  },
  {
   "cell_type": "markdown",
   "metadata": {},
   "source": [
    "# cumProduct"
   ]
  },
  {
   "cell_type": "code",
   "execution_count": 15,
   "metadata": {},
   "outputs": [
    {
     "name": "stdout",
     "output_type": "stream",
     "text": [
      "[1 2 6]\n",
      "[  1   2   6  24 120 720]\n",
      "[[ 1  2  3]\n",
      " [ 4 10 18]]\n",
      "[[  1   2   6]\n",
      " [  4  20 120]]\n"
     ]
    }
   ],
   "source": [
    "# cumprod/cumproduct(a, axis=None, dtype=None, out=None)\n",
    "'''Return the cumulative product of elements along a given axis.\n",
    "    \n",
    "    Parameters\n",
    "    ----------\n",
    "    a : array_like\n",
    "        Input array.\n",
    "    axis : int, optional\n",
    "        Axis along which the cumulative product is computed.  By default\n",
    "        the input is flattened.\n",
    "    dtype : dtype, optional\n",
    "        Type of the returned array, as well as of the accumulator in which\n",
    "        the elements are multiplied.  If *dtype* is not specified, it\n",
    "        defaults to the dtype of `a`, unless `a` has an integer dtype with\n",
    "        a precision less than that of the default platform integer.  In\n",
    "        that case, the default platform integer is used instead.\n",
    "    out : ndarray, optional\n",
    "        Alternative output array in which to place the result. It must\n",
    "        have the same shape and buffer length as the expected output\n",
    "        but the type of the resulting values will be cast if necessary.\n",
    "    \n",
    "    Returns\n",
    "    -------\n",
    "    cumprod : ndarray\n",
    "        A new array holding the result is returned unless `out` is\n",
    "        specified, in which case a reference to out is returned.\n",
    "'''\n",
    "a = np.array([1,2,3])\n",
    "print(np.cumprod(a))\n",
    "b = np.array([[1, 2, 3], [4, 5, 6]])\n",
    "print(np.cumprod(b))\n",
    "print(np.cumprod(b, axis=0))\n",
    "print(np.cumprod(b,axis=1))"
   ]
  },
  {
   "cell_type": "markdown",
   "metadata": {},
   "source": [
    "# cumSum"
   ]
  },
  {
   "cell_type": "code",
   "execution_count": 18,
   "metadata": {},
   "outputs": [
    {
     "name": "stdout",
     "output_type": "stream",
     "text": [
      "[ 1  3  6 10 15 21]\n",
      "[[1 2 3]\n",
      " [5 7 9]]\n",
      "[[ 1  3  6]\n",
      " [ 4  9 15]]\n"
     ]
    }
   ],
   "source": [
    "#cumsum(a, axis=None, dtype=None, out=None)\n",
    "'''Return the cumulative sum of the elements along a given axis.\n",
    "    \n",
    "    Parameters\n",
    "    ----------\n",
    "    a : array_like\n",
    "        Input array.\n",
    "    axis : int, optional\n",
    "        Axis along which the cumulative sum is computed. The default\n",
    "        (None) is to compute the cumsum over the flattened array.\n",
    "    dtype : dtype, optional\n",
    "        Type of the returned array and of the accumulator in which the\n",
    "        elements are summed.  If `dtype` is not specified, it defaults\n",
    "        to the dtype of `a`, unless `a` has an integer dtype with a\n",
    "        precision less than that of the default platform integer.  In\n",
    "        that case, the default platform integer is used.\n",
    "    out : ndarray, optional\n",
    "        Alternative output array in which to place the result. It must\n",
    "        have the same shape and buffer length as the expected output\n",
    "        but the type will be cast if necessary. See `doc.ufuncs`\n",
    "        (Section \"Output arguments\") for more details.\n",
    "    \n",
    "    Returns\n",
    "    -------\n",
    "    cumsum_along_axis : ndarray.\n",
    "        A new array holding the result is returned unless `out` is\n",
    "        specified, in which case a reference to `out` is returned. The\n",
    "        result has the same size as `a`, and the same shape as `a` if\n",
    "        `axis` is not None or `a` is a 1-d array.'''\n",
    "\n",
    "a = np.array([[1,2,3], [4,5,6]])\n",
    "print(np.cumsum(a))\n",
    "print(np.cumsum(a,axis=0))\n",
    "print(np.cumsum(a,axis=1))"
   ]
  },
  {
   "cell_type": "markdown",
   "metadata": {},
   "source": [
    "# DateTimeAsString"
   ]
  },
  {
   "cell_type": "code",
   "execution_count": 21,
   "metadata": {},
   "outputs": [
    {
     "name": "stdout",
     "output_type": "stream",
     "text": [
      "['2002-10-27T04:30' '2002-10-27T05:30' '2002-10-27T06:30'\n",
      " '2002-10-27T07:30']\n",
      "['2002-10-27T04:30Z' '2002-10-27T05:30Z' '2002-10-27T06:30Z'\n",
      " '2002-10-27T07:30Z']\n"
     ]
    }
   ],
   "source": [
    "#datetime_as_string(arr, unit=None, timezone='naive', casting='same_kind')\n",
    "'''Convert an array of datetimes into an array of strings.\n",
    "    \n",
    "    Parameters\n",
    "    ----------\n",
    "    arr : array_like of datetime64\n",
    "        The array of UTC timestamps to format.\n",
    "    unit : str\n",
    "        One of None, 'auto', or a datetime unit.\n",
    "    timezone : {'naive', 'UTC', 'local'} or tzinfo\n",
    "        Timezone information to use when displaying the datetime. If 'UTC', end\n",
    "        with a Z to indicate UTC time. If 'local', convert to the local timezone\n",
    "        first, and suffix with a +-#### timezone offset. If a tzinfo object,\n",
    "        then do as with 'local', but use the specified timezone.\n",
    "    casting : {'no', 'equiv', 'safe', 'same_kind', 'unsafe'}\n",
    "        Casting to allow when changing between datetime units.\n",
    "    \n",
    "    Returns\n",
    "    -------\n",
    "    str_arr : ndarray\n",
    "        An array of strings the same shape as `arr`.'''\n",
    "d = np.arange('2002-10-27T04:30', 4*60, 60, dtype='M8[m]')\n",
    "print(d)\n",
    "print(np.datetime_as_string(d,timezone='UTC'))"
   ]
  },
  {
   "cell_type": "markdown",
   "metadata": {},
   "source": [
    "# Delete"
   ]
  },
  {
   "cell_type": "code",
   "execution_count": 26,
   "metadata": {},
   "outputs": [
    {
     "name": "stdout",
     "output_type": "stream",
     "text": [
      "[[ 1  2  3  4]\n",
      " [ 5  6  7  8]\n",
      " [ 9 10 11 12]]\n",
      "[[ 1  2  3  4]\n",
      " [ 9 10 11 12]]\n"
     ]
    }
   ],
   "source": [
    "#delete(arr, obj, axis=None)\n",
    "'''Return a new array with sub-arrays along an axis deleted. For a one\n",
    "    dimensional array, this returns those entries not returned by\n",
    "    `arr[obj]`.\n",
    "    \n",
    "    Parameters\n",
    "    ----------\n",
    "    arr : array_like\n",
    "      Input array.\n",
    "    obj : slice, int or array of ints\n",
    "      Indicate which sub-arrays to remove.\n",
    "    axis : int, optional\n",
    "      The axis along which to delete the subarray defined by `obj`.\n",
    "      If `axis` is None, `obj` is applied to the flattened array.\n",
    "    \n",
    "    Returns\n",
    "    -------\n",
    "    out : ndarray\n",
    "        A copy of `arr` with the elements specified by `obj` removed. Note\n",
    "        that `delete` does not occur in-place. If `axis` is None, `out` is\n",
    "        a flattened array.'''\n",
    "arr = np.array([[1,2,3,4], [5,6,7,8], [9,10,11,12]])\n",
    "print(arr)\n",
    "print(np.delete(arr,1,0))"
   ]
  },
  {
   "cell_type": "markdown",
   "metadata": {},
   "source": [
    "# Diag"
   ]
  },
  {
   "cell_type": "code",
   "execution_count": 34,
   "metadata": {},
   "outputs": [
    {
     "name": "stdout",
     "output_type": "stream",
     "text": [
      "Matrix x is:  [[0 1 2]\n",
      " [3 4 5]\n",
      " [6 7 8]]\n",
      "Diagonal elements are: [0 4 8]\n",
      "Diagonal elements when k=1 is: [1 5]\n",
      "Diagonal elements when k=-1 is: [3 7]\n"
     ]
    }
   ],
   "source": [
    "#diag(v, k=0)\n",
    "'''Extract a diagonal or construct a diagonal array.\n",
    "    \n",
    "    See the more detailed documentation for ``numpy.diagonal`` if you use this\n",
    "    function to extract a diagonal and wish to write to the resulting array;\n",
    "    whether it returns a copy or a view depends on what version of numpy you\n",
    "    are using.\n",
    "    \n",
    "    Parameters\n",
    "    ----------\n",
    "    v : array_like\n",
    "        If `v` is a 2-D array, return a copy of its `k`-th diagonal.\n",
    "        If `v` is a 1-D array, return a 2-D array with `v` on the `k`-th\n",
    "        diagonal.\n",
    "    k : int, optional\n",
    "        Diagonal in question. The default is 0. Use `k>0` for diagonals\n",
    "        above the main diagonal, and `k<0` for diagonals below the main\n",
    "        diagonal.\n",
    "    \n",
    "    Returns\n",
    "    -------\n",
    "    out : ndarray\n",
    "        The extracted diagonal or constructed diagonal array.'''\n",
    "\n",
    "x = np.arange(9).reshape((3,3))\n",
    "print(\"Matrix x is: \",x)\n",
    "print(\"Diagonal elements are:\",np.diag(x))\n",
    "print(\"Diagonal elements when k=1 is:\",np.diag(x,k=1))\n",
    "print(\"Diagonal elements when k=-1 is:\",np.diag(x, k=-1))"
   ]
  },
  {
   "cell_type": "markdown",
   "metadata": {},
   "source": [
    "# diagIndices"
   ]
  },
  {
   "cell_type": "code",
   "execution_count": 42,
   "metadata": {},
   "outputs": [
    {
     "name": "stdout",
     "output_type": "stream",
     "text": [
      "(array([0, 1, 2, 3]), array([0, 1, 2, 3]))\n",
      "[[ 0  1  2  3]\n",
      " [ 4  5  6  7]\n",
      " [ 8  9 10 11]\n",
      " [12 13 14 15]]\n",
      "[[100   1   2   3]\n",
      " [  4 100   6   7]\n",
      " [  8   9 100  11]\n",
      " [ 12  13  14 100]]\n"
     ]
    }
   ],
   "source": [
    "#diag_indices(n, ndim=2)\n",
    "'''Return the indices to access the main diagonal of an array.\n",
    "    \n",
    "    This returns a tuple of indices that can be used to access the main\n",
    "    diagonal of an array `a` with ``a.ndim >= 2`` dimensions and shape\n",
    "    (n, n, ..., n). For ``a.ndim = 2`` this is the usual diagonal, for\n",
    "    ``a.ndim > 2`` this is the set of indices to access ``a[i, i, ..., i]``\n",
    "    for ``i = [0..n-1]``.\n",
    "    \n",
    "    Parameters\n",
    "    ----------\n",
    "    n : int\n",
    "      The size, along each dimension, of the arrays for which the returned\n",
    "      indices can be used.\n",
    "    \n",
    "    ndim : int, optional\n",
    "      The number of dimensions.'''\n",
    "di = np.diag_indices(4)\n",
    "print(di)\n",
    "a = np.arange(16).reshape(4, 4)\n",
    "print(a)\n",
    "a[di]=100\n",
    "print(a)"
   ]
  },
  {
   "cell_type": "markdown",
   "metadata": {},
   "source": [
    "# diagFlat"
   ]
  },
  {
   "cell_type": "code",
   "execution_count": 48,
   "metadata": {},
   "outputs": [
    {
     "name": "stdout",
     "output_type": "stream",
     "text": [
      "[[1 0 0 0]\n",
      " [0 2 0 0]\n",
      " [0 0 3 0]\n",
      " [0 0 0 4]]\n",
      "_ _ _ _ _ _ _ _ _ _ _ _ _ _\n",
      "[[0 1 0]\n",
      " [0 0 2]\n",
      " [0 0 0]]\n"
     ]
    }
   ],
   "source": [
    "#diagflat(v, k=0)\n",
    "'''Create a two-dimensional array with the flattened input as a diagonal.\n",
    "    \n",
    "    Parameters\n",
    "    ----------\n",
    "    v : array_like\n",
    "        Input data, which is flattened and set as the `k`-th\n",
    "        diagonal of the output.\n",
    "    k : int, optional\n",
    "        Diagonal to set; 0, the default, corresponds to the \"main\" diagonal,\n",
    "        a positive (negative) `k` giving the number of the diagonal above\n",
    "        (below) the main.\n",
    "    \n",
    "    Returns\n",
    "    -------\n",
    "    out : ndarray\n",
    "        The 2-D output array.'''\n",
    "print(np.diagflat([[1,2], [3,4]]))\n",
    "print('_ _ _ _ _ _ _ _ _ _ _ _ _ _')\n",
    "print(np.diagflat([1,2], 1))"
   ]
  },
  {
   "cell_type": "markdown",
   "metadata": {},
   "source": [
    "# Diagonal"
   ]
  },
  {
   "cell_type": "code",
   "execution_count": 55,
   "metadata": {},
   "outputs": [
    {
     "name": "stdout",
     "output_type": "stream",
     "text": [
      "[[0 1]\n",
      " [2 3]]\n",
      "Diagonal elements are: [0 3]\n",
      "[1]\n"
     ]
    }
   ],
   "source": [
    "#diagonal(a, offset=0, axis1=0, axis2=1)\n",
    "'''Return specified diagonals.\n",
    "    \n",
    "    Parameters\n",
    "    ----------\n",
    "    a : array_like\n",
    "        Array from which the diagonals are taken.\n",
    "    offset : int, optional\n",
    "        Offset of the diagonal from the main diagonal.  Can be positive or\n",
    "        negative.  Defaults to main diagonal (0).\n",
    "    axis1 : int, optional\n",
    "        Axis to be used as the first axis of the 2-D sub-arrays from which\n",
    "        the diagonals should be taken.  Defaults to first axis (0).\n",
    "    axis2 : int, optional\n",
    "        Axis to be used as the second axis of the 2-D sub-arrays from\n",
    "        which the diagonals should be taken. Defaults to second axis (1).\n",
    "    \n",
    "    Returns\n",
    "    -------\n",
    "    array_of_diagonals : ndarray\n",
    "        If `a` is 2-D and not a `matrix`, a 1-D array of the same type as `a`\n",
    "        containing the diagonal is returned. If `a` is a `matrix`, a 1-D\n",
    "        array containing the diagonal is returned in order to maintain\n",
    "        backward compatibility.\n",
    "        If ``a.ndim > 2``, then the dimensions specified by `axis1` and `axis2`\n",
    "        are removed, and a new axis inserted at the end corresponding to the\n",
    "        diagonal.'''\n",
    "a = np.arange(4).reshape(2,2)\n",
    "print(a)\n",
    "print(\"Diagonal elements are:\",a.diagonal())\n",
    "print( a.diagonal(1))"
   ]
  },
  {
   "cell_type": "markdown",
   "metadata": {},
   "source": [
    "# Diff"
   ]
  },
  {
   "cell_type": "code",
   "execution_count": 63,
   "metadata": {},
   "outputs": [
    {
     "name": "stdout",
     "output_type": "stream",
     "text": [
      "Difference matrix(x) is:  [ 1  2  3 -7]\n",
      "Difference matrix(y) is:  [[2 3 4]\n",
      " [5 1 2]]\n",
      "Difference matrix(y) along the axis 0 is: [[-1  2  0 -2]]\n"
     ]
    }
   ],
   "source": [
    "#diff(a, n=1, axis=-1)\n",
    "'''Calculate the n-th discrete difference along the given axis.\n",
    "    \n",
    "    The first difference is given by ``out[n] = a[n+1] - a[n]`` along\n",
    "    the given axis, higher differences are calculated by using `diff`\n",
    "    recursively.\n",
    "    \n",
    "    Parameters\n",
    "    ----------\n",
    "    a : array_like\n",
    "        Input array\n",
    "    n : int, optional\n",
    "        The number of times values are differenced. If zero, the input\n",
    "        is returned as-is.\n",
    "    axis : int, optional\n",
    "        The axis along which the difference is taken, default is the\n",
    "        last axis.\n",
    "    \n",
    "    Returns\n",
    "    -------\n",
    "    diff : ndarray\n",
    "        The n-th differences. The shape of the output is the same as `a`\n",
    "        except along `axis` where the dimension is smaller by `n`. The\n",
    "        type of the output is the same as the type of the difference\n",
    "        between any two elements of `a`. This is the same as the type of\n",
    "        `a` in most cases. A notable exception is `datetime64`, which\n",
    "        results in a `timedelta64` output array.'''\n",
    "x = np.array([1, 2, 4, 7, 0])\n",
    "print(\"Difference matrix(x) is: \",np.diff(x))\n",
    "#print(np.diff(x, n=2))\n",
    "y = np.array([[1, 3, 6, 10], [0, 5, 6, 8]])\n",
    "print(\"Difference matrix(y) is: \",np.diff(y))\n",
    "print(\"Difference matrix(y) along the axis 0 is:\",np.diff(y, axis=0))"
   ]
  },
  {
   "cell_type": "markdown",
   "metadata": {},
   "source": [
    "# Digitize"
   ]
  },
  {
   "cell_type": "code",
   "execution_count": 68,
   "metadata": {},
   "outputs": [
    {
     "name": "stdout",
     "output_type": "stream",
     "text": [
      "[1 4 3 2]\n",
      "[1 2 3 4 4]\n",
      "[1 3 3 4 5]\n"
     ]
    }
   ],
   "source": [
    "#digitize(x, bins, right=False)\n",
    "'''Return the indices of the bins to which each value in input array belongs.\n",
    "    \n",
    "    Each index ``i`` returned is such that ``bins[i-1] <= x < bins[i]`` if\n",
    "    `bins` is monotonically increasing, or ``bins[i-1] > x >= bins[i]`` if\n",
    "    `bins` is monotonically decreasing. If values in `x` are beyond the\n",
    "    bounds of `bins`, 0 or ``len(bins)`` is returned as appropriate. If right\n",
    "    is True, then the right bin is closed so that the index ``i`` is such\n",
    "    that ``bins[i-1] < x <= bins[i]`` or ``bins[i-1] >= x > bins[i]`` if `bins`\n",
    "    is monotonically increasing or decreasing, respectively.\n",
    "    \n",
    "    Parameters\n",
    "    ----------\n",
    "    x : array_like\n",
    "        Input array to be binned. Prior to NumPy 1.10.0, this array had to\n",
    "        be 1-dimensional, but can now have any shape.\n",
    "    bins : array_like\n",
    "        Array of bins. It has to be 1-dimensional and monotonic.\n",
    "    right : bool, optional\n",
    "        Indicating whether the intervals include the right or the left bin\n",
    "        edge. Default behavior is (right==False) indicating that the interval\n",
    "        does not include the right edge. The left bin end is open in this\n",
    "        case, i.e., bins[i-1] <= x < bins[i] is the default behavior for\n",
    "        monotonically increasing bins.\n",
    "    \n",
    "    Returns\n",
    "    -------\n",
    "    out : ndarray of ints\n",
    "        Output array of indices, of same shape as `x`.'''\n",
    "x = np.array([0.2, 6.4, 3.0, 1.6])\n",
    "bins = np.array([0.0, 1.0, 2.5, 4.0, 10.0])\n",
    "inds = np.digitize(x, bins)\n",
    "print(inds)\n",
    "y = np.array([1.2, 10.0, 12.4, 15.5, 20.])\n",
    "bins2 = np.array([0, 5, 10, 15, 20])\n",
    "print(np.digitize(y,bins2,right=True))\n",
    "print(np.digitize(y,bins2,right=False))"
   ]
  },
  {
   "cell_type": "markdown",
   "metadata": {},
   "source": [
    "# dot"
   ]
  },
  {
   "cell_type": "code",
   "execution_count": 71,
   "metadata": {},
   "outputs": [
    {
     "name": "stdout",
     "output_type": "stream",
     "text": [
      "12\n",
      "(-13+0j)\n",
      "[[4 1]\n",
      " [2 2]]\n"
     ]
    }
   ],
   "source": [
    "# dot(a, b, out=None)\n",
    "    \n",
    "'''Dot product of two arrays. Specifically,\n",
    "    \n",
    "    - If both `a` and `b` are 1-D arrays, it is inner product of vectors\n",
    "      (without complex conjugation).\n",
    "    \n",
    "    - If both `a` and `b` are 2-D arrays, it is matrix multiplication,\n",
    "      but using :func:`matmul` or ``a @ b`` is preferred.\n",
    "    \n",
    "    - If either `a` or `b` is 0-D (scalar), it is equivalent to :func:`multiply`\n",
    "      and using ``numpy.multiply(a, b)`` or ``a * b`` is preferred.\n",
    "    \n",
    "    - If `a` is an N-D array and `b` is a 1-D array, it is a sum product over\n",
    "      the last axis of `a` and `b`.\n",
    "    \n",
    "    - If `a` is an N-D array and `b` is an M-D array (where ``M>=2``), it is a\n",
    "      sum product over the last axis of `a` and the second-to-last axis of `b`::\n",
    "    \n",
    "        dot(a, b)[i,j,k,m] = sum(a[i,j,:] * b[k,:,m])\n",
    "    \n",
    "    Parameters\n",
    "    ----------\n",
    "    a : array_like\n",
    "        First argument.\n",
    "    b : array_like\n",
    "        Second argument.\n",
    "    out : ndarray, optional\n",
    "        Output argument. This must have the exact kind that would be returned\n",
    "        if it was not used. In particular, it must have the right type, must be\n",
    "        C-contiguous, and its dtype must be the dtype that would be returned\n",
    "        for `dot(a,b)`. This is a performance feature. Therefore, if these\n",
    "        conditions are not met, an exception is raised, instead of attempting\n",
    "        to be flexible.\n",
    "    \n",
    "    Returns\n",
    "    -------\n",
    "    output : ndarray\n",
    "        Returns the dot product of `a` and `b`.  If `a` and `b` are both\n",
    "        scalars or both 1-D arrays then a scalar is returned; otherwise\n",
    "        an array is returned.\n",
    "        If `out` is given, then it is returned.'''\n",
    "print(np.dot(3, 4))\n",
    "print(np.dot([2j, 3j], [2j, 3j]))\n",
    "a = [[1, 0], [0, 1]]\n",
    "b = [[4, 1], [2, 2]]\n",
    "print(np.dot(a,b))"
   ]
  },
  {
   "cell_type": "markdown",
   "metadata": {},
   "source": [
    "# dsplit"
   ]
  },
  {
   "cell_type": "code",
   "execution_count": 74,
   "metadata": {},
   "outputs": [
    {
     "name": "stdout",
     "output_type": "stream",
     "text": [
      "[[[ 0.  1.  2.  3.]\n",
      "  [ 4.  5.  6.  7.]]\n",
      "\n",
      " [[ 8.  9. 10. 11.]\n",
      "  [12. 13. 14. 15.]]]\n",
      "[array([[[ 0.,  1.],\n",
      "        [ 4.,  5.]],\n",
      "\n",
      "       [[ 8.,  9.],\n",
      "        [12., 13.]]]), array([[[ 2.,  3.],\n",
      "        [ 6.,  7.]],\n",
      "\n",
      "       [[10., 11.],\n",
      "        [14., 15.]]])]\n"
     ]
    }
   ],
   "source": [
    "#dsplit(ary, indices_or_sections)\n",
    "'''Split array into multiple sub-arrays along the 3rd axis (depth).\n",
    "    \n",
    "    Please refer to the `split` documentation.  `dsplit` is equivalent\n",
    "    to `split` with ``axis=2``, the array is always split along the third\n",
    "    axis provided the array dimension is greater than or equal to 3.'''\n",
    "x = np.arange(16.0).reshape(2, 2, 4)\n",
    "print(x)\n",
    "print(np.dsplit(x, 2))"
   ]
  },
  {
   "cell_type": "markdown",
   "metadata": {},
   "source": [
    "# dstack"
   ]
  },
  {
   "cell_type": "code",
   "execution_count": 75,
   "metadata": {},
   "outputs": [
    {
     "data": {
      "text/plain": [
       "array([[[1, 2],\n",
       "        [2, 3],\n",
       "        [3, 4]]])"
      ]
     },
     "execution_count": 75,
     "metadata": {},
     "output_type": "execute_result"
    }
   ],
   "source": [
    "# dstack(tup)\n",
    "'''Stack arrays in sequence depth wise (along third axis).\n",
    "    \n",
    "    This is equivalent to concatenation along the third axis after 2-D arrays\n",
    "    of shape `(M,N)` have been reshaped to `(M,N,1)` and 1-D arrays of shape\n",
    "    `(N,)` have been reshaped to `(1,N,1)`. Rebuilds arrays divided by\n",
    "    `dsplit`.\n",
    "    \n",
    "    This function makes most sense for arrays with up to 3 dimensions. For\n",
    "    instance, for pixel-data with a height (first axis), width (second axis),\n",
    "    and r/g/b channels (third axis). The functions `concatenate`, `stack` and\n",
    "    `block` provide more general stacking and concatenation operations.\n",
    "    \n",
    "    Parameters\n",
    "    ----------\n",
    "    tup : sequence of arrays\n",
    "        The arrays must have the same shape along all but the third axis.\n",
    "        1-D or 2-D arrays must have the same shape.\n",
    "    \n",
    "    Returns\n",
    "    -------\n",
    "    stacked : ndarray\n",
    "        The array formed by stacking the given arrays, will be at least 3-D.'''\n",
    "a = np.array((1,2,3))\n",
    "b = np.array((2,3,4))\n",
    "np.dstack((a,b))"
   ]
  },
  {
   "cell_type": "markdown",
   "metadata": {},
   "source": [
    "# ediff1d"
   ]
  },
  {
   "cell_type": "code",
   "execution_count": 82,
   "metadata": {},
   "outputs": [
    {
     "name": "stdout",
     "output_type": "stream",
     "text": [
      "[ 1  2  3 -7]\n",
      "[-99   1   2   3  -7  88  99]\n",
      "Difference between sequence elements in arrays in y is:  [ 1  2 -3  5 18]\n"
     ]
    }
   ],
   "source": [
    "# ediff1d(ary, to_end=None, to_begin=None)\n",
    "'''The differences between consecutive elements of an array.\n",
    "    \n",
    "    Parameters\n",
    "    ----------\n",
    "    ary : array_like\n",
    "        If necessary, will be flattened before the differences are taken.\n",
    "    to_end : array_like, optional\n",
    "        Number(s) to append at the end of the returned differences.\n",
    "    to_begin : array_like, optional\n",
    "        Number(s) to prepend at the beginning of the returned differences.\n",
    "    \n",
    "    Returns\n",
    "    -------\n",
    "    ediff1d : ndarray\n",
    "        The differences. Loosely, this is ``ary.flat[1:] - ary.flat[:-1]``.'''\n",
    "x = np.array([1, 2, 4, 7, 0])\n",
    "print(np.ediff1d(x))\n",
    "print(np.ediff1d(x, to_begin=-99, to_end=np.array([88, 99])))\n",
    "y = [[1, 2, 4], [1, 6, 24]]\n",
    "print(\"Difference between sequence elements in arrays in y is: \",np.ediff1d(y))"
   ]
  },
  {
   "cell_type": "markdown",
   "metadata": {},
   "source": [
    "# einsum"
   ]
  },
  {
   "cell_type": "code",
   "execution_count": 83,
   "metadata": {},
   "outputs": [
    {
     "name": "stdout",
     "output_type": "stream",
     "text": [
      "60\n"
     ]
    }
   ],
   "source": [
    "# einsum(*operands, **kwargs)\n",
    "'''einsum(subscripts, *operands, out=None, dtype=None, order='K',\n",
    "           casting='safe', optimize=False)\n",
    "    \n",
    "    Evaluates the Einstein summation convention on the operands.\n",
    "    \n",
    "Parameters\n",
    "    ----------\n",
    "    subscripts : str\n",
    "        Specifies the subscripts for summation.\n",
    "    operands : list of array_like\n",
    "        These are the arrays for the operation.\n",
    "    out : {ndarray, None}, optional\n",
    "        If provided, the calculation is done into this array.\n",
    "    dtype : {data-type, None}, optional\n",
    "        If provided, forces the calculation to use the data type specified.\n",
    "        Note that you may have to also give a more liberal `casting`\n",
    "        parameter to allow the conversions. Default is None.\n",
    "    order : {'C', 'F', 'A', 'K'}, optional\n",
    "        Controls the memory layout of the output. 'C' means it should\n",
    "        be C contiguous. 'F' means it should be Fortran contiguous,\n",
    "        'A' means it should be 'F' if the inputs are all 'F', 'C' otherwise.\n",
    "        'K' means it should be as close to the layout as the inputs as\n",
    "        is possible, including arbitrarily permuted axes.\n",
    "        Default is 'K'.\n",
    "    casting : {'no', 'equiv', 'safe', 'same_kind', 'unsafe'}, optional\n",
    "        Controls what kind of data casting may occur.  Setting this to\n",
    "        'unsafe' is not recommended, as it can adversely affect accumulations.\n",
    "    \n",
    "          * 'no' means the data types should not be cast at all.\n",
    "          * 'equiv' means only byte-order changes are allowed.\n",
    "          * 'safe' means only casts which can preserve values are allowed.\n",
    "          * 'same_kind' means only safe casts or casts within a kind,\n",
    "            like float64 to float32, are allowed.\n",
    "          * 'unsafe' means any data conversions may be done.\n",
    "    \n",
    "        Default is 'safe'.\n",
    "    optimize : {False, True, 'greedy', 'optimal'}, optional\n",
    "        Controls if intermediate optimization should occur. No optimization\n",
    "        will occur if False and True will default to the 'greedy' algorithm.\n",
    "        Also accepts an explicit contraction list from the ``np.einsum_path``\n",
    "        function. See ``np.einsum_path`` for more details. Default is False.\n",
    "    \n",
    "    Returns\n",
    "    -------\n",
    "    output : ndarray\n",
    "        The calculation based on the Einstein summation convention.'''\n",
    "a = np.arange(25).reshape(5,5)\n",
    "b = np.arange(5)\n",
    "c = np.arange(6).reshape(2,3)\n",
    "print(np.einsum('ii', a))"
   ]
  },
  {
   "cell_type": "markdown",
   "metadata": {},
   "source": [
    "# empty"
   ]
  },
  {
   "cell_type": "code",
   "execution_count": 84,
   "metadata": {},
   "outputs": [
    {
     "name": "stdout",
     "output_type": "stream",
     "text": [
      "[[4.9e-324 9.9e-324]\n",
      " [1.5e-323      nan]]\n"
     ]
    }
   ],
   "source": [
    "#empty(shape, dtype=float, order='C')\n",
    "    \n",
    "'''Return a new array of given shape and type, without initializing entries.\n",
    "    \n",
    "    Parameters\n",
    "    ----------\n",
    "    shape : int or tuple of int\n",
    "        Shape of the empty array\n",
    "    dtype : data-type, optional\n",
    "        Desired output data-type.\n",
    "    order : {'C', 'F'}, optional\n",
    "        Whether to store multi-dimensional data in row-major\n",
    "        (C-style) or column-major (Fortran-style) order in\n",
    "        memory.\n",
    "    \n",
    "    Returns\n",
    "    -------\n",
    "    out : ndarray\n",
    "        Array of uninitialized (arbitrary) data of the given shape, dtype, and\n",
    "        order.  Object arrays will be initialized to None.'''\n",
    "print(np.empty([2, 2]))"
   ]
  },
  {
   "cell_type": "markdown",
   "metadata": {},
   "source": [
    "# empty_like"
   ]
  },
  {
   "cell_type": "code",
   "execution_count": 90,
   "metadata": {},
   "outputs": [
    {
     "data": {
      "text/plain": [
       "array([[1., 2., 3.],\n",
       "       [4., 5., 6.]])"
      ]
     },
     "execution_count": 90,
     "metadata": {},
     "output_type": "execute_result"
    }
   ],
   "source": [
    "# empty_like(a, dtype=None, order='K', subok=True)\n",
    "    \n",
    "'''Return a new array with the same shape and type as a given array.\n",
    "    \n",
    "    Parameters\n",
    "    ----------\n",
    "    a : array_like\n",
    "        The shape and data-type of `a` define these same attributes of the\n",
    "        returned array.\n",
    "    dtype : data-type, optional\n",
    "        Overrides the data type of the result.\n",
    "    \n",
    "        .. versionadded:: 1.6.0\n",
    "    order : {'C', 'F', 'A', or 'K'}, optional\n",
    "        Overrides the memory layout of the result. 'C' means C-order,\n",
    "        'F' means F-order, 'A' means 'F' if ``a`` is Fortran contiguous,\n",
    "        'C' otherwise. 'K' means match the layout of ``a`` as closely\n",
    "        as possible.\n",
    "    \n",
    "        .. versionadded:: 1.6.0\n",
    "    subok : bool, optional.\n",
    "        If True, then the newly created array will use the sub-class\n",
    "        type of 'a', otherwise it will be a base-class array. Defaults\n",
    "        to True.\n",
    "    \n",
    "    Returns\n",
    "    -------\n",
    "    out : ndarray\n",
    "        Array of uninitialized (arbitrary) data with the same\n",
    "        shape and type as `a`.'''\n",
    "#a = ([1,2,3], [4,5,6])\n",
    "a = np.array([[1., 2., 3.],[4.,5.,6.]])\n",
    "np.empty_like(a)"
   ]
  },
  {
   "cell_type": "markdown",
   "metadata": {},
   "source": [
    "# expand_dims"
   ]
  },
  {
   "cell_type": "code",
   "execution_count": 95,
   "metadata": {},
   "outputs": [
    {
     "name": "stdout",
     "output_type": "stream",
     "text": [
      "(2,)\n",
      "After Expanding dimensions the value of x is: [[1 2]]\n"
     ]
    }
   ],
   "source": [
    "# expand_dims(a, axis)\n",
    "'''Expand the shape of an array.\n",
    "    \n",
    "    Insert a new axis that will appear at the `axis` position in the expanded\n",
    "    array shape.\n",
    "    \n",
    "    .. note:: Previous to NumPy 1.13.0, neither ``axis < -a.ndim - 1`` nor\n",
    "       ``axis > a.ndim`` raised errors or put the new axis where documented.\n",
    "       Those axis values are now deprecated and will raise an AxisError in the\n",
    "       future.\n",
    "    \n",
    "    Parameters\n",
    "    ----------\n",
    "    a : array_like\n",
    "        Input array.\n",
    "    axis : int\n",
    "        Position in the expanded axes where the new axis is placed.\n",
    "    \n",
    "    Returns\n",
    "    -------\n",
    "    res : ndarray\n",
    "        Output array. The number of dimensions is one greater than that of\n",
    "        the input array.'''\n",
    "\n",
    "x = np.array([1,2])\n",
    "print(x.shape)\n",
    "y = np.expand_dims(x, axis=0)\n",
    "print(\"After Expanding dimensions the value of x is:\",y)"
   ]
  },
  {
   "cell_type": "markdown",
   "metadata": {},
   "source": [
    "# Extract"
   ]
  },
  {
   "cell_type": "code",
   "execution_count": 100,
   "metadata": {},
   "outputs": [
    {
     "name": "stdout",
     "output_type": "stream",
     "text": [
      "[[ 0  1  2  3]\n",
      " [ 4  5  6  7]\n",
      " [ 8  9 10 11]]\n",
      "[[ True False False  True]\n",
      " [False False  True False]\n",
      " [False  True False False]]\n",
      "[0 3 6 9]\n"
     ]
    }
   ],
   "source": [
    "# extract(condition, arr)\n",
    "'''Return the elements of an array that satisfy some condition.\n",
    "    \n",
    "    This is equivalent to ``np.compress(ravel(condition), ravel(arr))``.  If\n",
    "    `condition` is boolean ``np.extract`` is equivalent to ``arr[condition]``.\n",
    "    \n",
    "    Note that `place` does the exact opposite of `extract`.\n",
    "    \n",
    "    Parameters\n",
    "    ----------\n",
    "    condition : array_like\n",
    "        An array whose nonzero or True entries indicate the elements of `arr`\n",
    "        to extract.\n",
    "    arr : array_like\n",
    "        Input array of the same size as `condition`.\n",
    "    \n",
    "    Returns\n",
    "    -------\n",
    "    extract : ndarray\n",
    "        Rank 1 array of values from `arr` where `condition` is True.'''\n",
    "\n",
    "arr = np.arange(12).reshape((3, 4))\n",
    "print(arr)\n",
    "condition = np.mod(arr, 3)==0\n",
    "print(condition)\n",
    "print(np.extract(condition, arr))"
   ]
  },
  {
   "cell_type": "markdown",
   "metadata": {},
   "source": [
    "# Eye"
   ]
  },
  {
   "cell_type": "code",
   "execution_count": 104,
   "metadata": {},
   "outputs": [
    {
     "name": "stdout",
     "output_type": "stream",
     "text": [
      "[[ True False False]\n",
      " [False  True False]\n",
      " [False False  True]]\n",
      "[[1 0 0]\n",
      " [0 1 0]\n",
      " [0 0 1]]\n",
      "[[1. 0. 0.]\n",
      " [0. 1. 0.]\n",
      " [0. 0. 1.]]\n"
     ]
    }
   ],
   "source": [
    "# eye(N, M=None, k=0, dtype=<class 'float'>, order='C')\n",
    "'''Return a 2-D array with ones on the diagonal and zeros elsewhere.\n",
    "    \n",
    "    Parameters\n",
    "    ----------\n",
    "    N : int\n",
    "      Number of rows in the output.\n",
    "    M : int, optional\n",
    "      Number of columns in the output. If None, defaults to `N`.\n",
    "    k : int, optional\n",
    "      Index of the diagonal: 0 (the default) refers to the main diagonal,\n",
    "      a positive value refers to an upper diagonal, and a negative value\n",
    "      to a lower diagonal.\n",
    "    dtype : data-type, optional\n",
    "      Data-type of the returned array.\n",
    "    order : {'C', 'F'}, optional\n",
    "        Whether the output should be stored in row-major (C-style) or\n",
    "        column-major (Fortran-style) order in memory.\n",
    "    \n",
    "        .. versionadded:: 1.14.0\n",
    "    \n",
    "    Returns\n",
    "    -------\n",
    "    I : ndarray of shape (N,M)\n",
    "      An array where all elements are equal to zero, except for the `k`-th\n",
    "      diagonal, whose values are equal to one.'''\n",
    "\n",
    "print(np.eye(3,dtype=bool))\n",
    "print(np.eye(3,dtype=int))\n",
    "print(np.eye(3,dtype=float))"
   ]
  },
  {
   "cell_type": "code",
   "execution_count": 106,
   "metadata": {},
   "outputs": [],
   "source": [
    "# fft (It has many built-in methods do cover post discussion with RK)"
   ]
  },
  {
   "cell_type": "markdown",
   "metadata": {},
   "source": [
    "# FillDiagonal"
   ]
  },
  {
   "cell_type": "code",
   "execution_count": 128,
   "metadata": {},
   "outputs": [
    {
     "name": "stdout",
     "output_type": "stream",
     "text": [
      "[[0 0 0 0]\n",
      " [0 0 0 0]\n",
      " [0 0 0 0]\n",
      " [0 0 0 0]]\n",
      "_ _ _ _ _ _ _ _ _\n",
      "\n",
      "[[4 0 0 0]\n",
      " [0 4 0 0]\n",
      " [0 0 4 0]\n",
      " [0 0 0 4]]\n",
      "_ _ _ _ _ _ _ _ _\n",
      "\n",
      "[[6 0 0 0 0]\n",
      " [0 6 0 0 0]\n",
      " [0 0 6 0 0]]\n"
     ]
    }
   ],
   "source": [
    "#fill_diagonal(a, val, wrap=False)\n",
    "'''Fill the main diagonal of the given array of any dimensionality.\n",
    "    \n",
    "    For an array `a` with ``a.ndim >= 2``, the diagonal is the list of\n",
    "    locations with indices ``a[i, ..., i]`` all identical. This function\n",
    "    modifies the input array in-place, it does not return a value.\n",
    "    \n",
    "    Parameters\n",
    "    ----------\n",
    "    a : array, at least 2-D.\n",
    "      Array whose diagonal is to be filled, it gets modified in-place.\n",
    "    \n",
    "    val : scalar\n",
    "      Value to be written on the diagonal, its type must be compatible with\n",
    "      that of the array a.\n",
    "    \n",
    "    wrap : bool\n",
    "      For tall matrices in NumPy version up to 1.6.2, the\n",
    "      diagonal \"wrapped\" after N columns. You can have this behavior\n",
    "      with this option. This affects only tall matrices.'''\n",
    "\n",
    "a = np.zeros((4,4),int)\n",
    "print(a)\n",
    "np.fill_diagonal(a,4,wrap=True)\n",
    "print('_ _ _ _ _ _ _ _ _\\n')\n",
    "print(a)\n",
    "b = np.zeros((3, 5),int)\n",
    "np.fill_diagonal(b,6)\n",
    "print('_ _ _ _ _ _ _ _ _\\n')\n",
    "print(b)"
   ]
  },
  {
   "cell_type": "markdown",
   "metadata": {},
   "source": [
    "# Finfo"
   ]
  },
  {
   "cell_type": "code",
   "execution_count": null,
   "metadata": {},
   "outputs": [],
   "source": [
    "# Will be covered later"
   ]
  },
  {
   "cell_type": "markdown",
   "metadata": {},
   "source": [
    "# Fix"
   ]
  },
  {
   "cell_type": "code",
   "execution_count": 135,
   "metadata": {},
   "outputs": [
    {
     "name": "stdout",
     "output_type": "stream",
     "text": [
      "[2. 4. 8. 9.]\n"
     ]
    }
   ],
   "source": [
    "#fix(x, out=None)\n",
    "'''Round to nearest integer towards zero.\n",
    "    \n",
    "    Round an array of floats element-wise to nearest integer towards zero.\n",
    "    The rounded values are returned as floats.\n",
    "    \n",
    "    Parameters\n",
    "    ----------\n",
    "    x : array_like\n",
    "        An array of floats to be rounded\n",
    "    y : ndarray, optional\n",
    "        Output array\n",
    "    \n",
    "    Returns\n",
    "    -------\n",
    "    out : ndarray of floats\n",
    "        The array of rounded numbers'''\n",
    "\n",
    "a = np.array([2.23,4.99,8.33,9.23])\n",
    "print(np.fix(a))"
   ]
  },
  {
   "cell_type": "markdown",
   "metadata": {},
   "source": [
    "# Flat"
   ]
  },
  {
   "cell_type": "code",
   "execution_count": 142,
   "metadata": {},
   "outputs": [],
   "source": [
    "# class flatiter(builtins.object)\n",
    "'''Flat iterator object to iterate over arrays.'''\n",
    "x = np.arange(6).reshape(2, 3)\n",
    "fl = x.flat"
   ]
  },
  {
   "cell_type": "markdown",
   "metadata": {},
   "source": [
    "# FlatNonZero"
   ]
  },
  {
   "cell_type": "code",
   "execution_count": 144,
   "metadata": {},
   "outputs": [
    {
     "name": "stdout",
     "output_type": "stream",
     "text": [
      "[-2 -1  0  1  2]\n",
      "[0 1 3 4]\n"
     ]
    }
   ],
   "source": [
    "#flatnonzero(a)\n",
    "'''Return indices that are non-zero in the flattened version of a.\n",
    "    \n",
    "    Parameters\n",
    "    ----------\n",
    "    a : ndarray\n",
    "        Input array.\n",
    "    \n",
    "    Returns\n",
    "    -------\n",
    "    res : ndarray\n",
    "        Output array, containing the indices of the elements of `a.ravel()`\n",
    "        that are non-zero.\n",
    "    \n",
    "    See Also\n",
    "    --------\n",
    "    nonzero : Return the indices of the non-zero elements of the input array.\n",
    "    ravel : Return a 1-D array containing the elements of the input array.'''\n",
    "\n",
    "x = np.arange(-2, 3)\n",
    "print(x)\n",
    "print(np.flatnonzero(x))"
   ]
  },
  {
   "cell_type": "markdown",
   "metadata": {},
   "source": [
    "# Flip"
   ]
  },
  {
   "cell_type": "code",
   "execution_count": 154,
   "metadata": {},
   "outputs": [
    {
     "name": "stdout",
     "output_type": "stream",
     "text": [
      "[[4 3 2 1]\n",
      " [8 7 6 5]]\n"
     ]
    }
   ],
   "source": [
    "# flip(m, axis)\n",
    "'''Reverse the order of elements in an array along the given axis.\n",
    "    \n",
    "    The shape of the array is preserved, but the elements are reordered.\n",
    "    \n",
    "    Parameters\n",
    "    ----------\n",
    "    m : array_like\n",
    "        Input array.\n",
    "    axis : integer\n",
    "        Axis in array, which entries are reversed.\n",
    "        \n",
    "    Returns\n",
    "    -------\n",
    "    out : array_like\n",
    "        A view of `m` with the entries of axis reversed.  Since a view is\n",
    "        returned, this operation is done in constant time.'''\n",
    "\n",
    "#A = np.arange(8).reshape((2,2,2))\n",
    "A = np.array([[1,2,3,4],[5,6,7,8]])\n",
    "print(np.flip(A,1))"
   ]
  },
  {
   "cell_type": "markdown",
   "metadata": {},
   "source": [
    "# Flipr"
   ]
  },
  {
   "cell_type": "code",
   "execution_count": 157,
   "metadata": {},
   "outputs": [
    {
     "name": "stdout",
     "output_type": "stream",
     "text": [
      "[[1. 0. 0.]\n",
      " [0. 2. 0.]\n",
      " [0. 0. 3.]]\n",
      "[[0. 0. 1.]\n",
      " [0. 2. 0.]\n",
      " [3. 0. 0.]]\n"
     ]
    }
   ],
   "source": [
    "# fliplr(m)\n",
    "'''Flip array in the left/right direction.\n",
    "    \n",
    "    Flip the entries in each row in the left/right direction.\n",
    "    Columns are preserved, but appear in a different order than before.\n",
    "    \n",
    "    Parameters\n",
    "    ----------\n",
    "    m : array_like\n",
    "        Input array, must be at least 2-D.\n",
    "    \n",
    "    Returns\n",
    "    -------\n",
    "    f : ndarray\n",
    "        A view of `m` with the columns reversed.  Since a view\n",
    "        is returned, this operation is :math:`\\mathcal O(1)`.'''\n",
    "A = np.diag([1.,2.,3.])\n",
    "print(A)\n",
    "print(np.fliplr(A))"
   ]
  },
  {
   "cell_type": "markdown",
   "metadata": {},
   "source": [
    "# Flipud"
   ]
  },
  {
   "cell_type": "code",
   "execution_count": 160,
   "metadata": {},
   "outputs": [
    {
     "name": "stdout",
     "output_type": "stream",
     "text": [
      "[[1 0 0]\n",
      " [0 2 0]\n",
      " [0 0 3]]\n",
      "[[0 0 3]\n",
      " [0 2 0]\n",
      " [1 0 0]]\n"
     ]
    }
   ],
   "source": [
    "#flipud(m)\n",
    "'''Flip array in the up/down direction.\n",
    "    \n",
    "    Flip the entries in each column in the up/down direction.\n",
    "    Rows are preserved, but appear in a different order than before.\n",
    "    \n",
    "    Parameters\n",
    "    ----------\n",
    "    m : array_like\n",
    "        Input array.\n",
    "    \n",
    "    Returns\n",
    "    -------\n",
    "    out : array_like\n",
    "        A view of `m` with the rows reversed.  Since a view is\n",
    "        returned, this operation is :math:`\\mathcal O(1)`. '''\n",
    "A = np.diag([1, 2, 3])\n",
    "print(A)\n",
    "print(np.flipud(A))"
   ]
  },
  {
   "cell_type": "code",
   "execution_count": null,
   "metadata": {},
   "outputs": [],
   "source": []
  }
 ],
 "metadata": {
  "kernelspec": {
   "display_name": "Python 3",
   "language": "python",
   "name": "python3"
  },
  "language_info": {
   "codemirror_mode": {
    "name": "ipython",
    "version": 3
   },
   "file_extension": ".py",
   "mimetype": "text/x-python",
   "name": "python",
   "nbconvert_exporter": "python",
   "pygments_lexer": "ipython3",
   "version": "3.6.5"
  }
 },
 "nbformat": 4,
 "nbformat_minor": 2
}
